{
 "cells": [
  {
   "cell_type": "markdown",
   "metadata": {},
   "source": [
    "## Exploratory Data Analysis with Python"
   ]
  },
  {
   "cell_type": "code",
   "execution_count": 324,
   "metadata": {},
   "outputs": [],
   "source": [
    "import pandas as pd\n",
    "import numpy as np\n",
    "import matplotlib.pyplot as plt"
   ]
  },
  {
   "cell_type": "markdown",
   "metadata": {},
   "source": [
    "<br>"
   ]
  },
  {
   "cell_type": "markdown",
   "metadata": {},
   "source": [
    "### Importing Datasets"
   ]
  },
  {
   "cell_type": "code",
   "execution_count": 2,
   "metadata": {},
   "outputs": [],
   "source": [
    "subscription = pd.read_csv('track_subscription_data.csv')\n",
    "userdetails = pd.read_csv('user_purchase_data.csv')\n",
    "quiz = pd.read_csv('user_quiz_attempt_data.csv')\n",
    "studycard = pd.read_csv('user_studycard_data.csv')\n",
    "videos = pd.read_csv('user_video_activity_data.csv')"
   ]
  },
  {
   "cell_type": "markdown",
   "metadata": {},
   "source": [
    "<br>"
   ]
  },
  {
   "cell_type": "markdown",
   "metadata": {},
   "source": [
    "## Columns in Datasets\n",
    "\n",
    "### User Details\n",
    "User Details for 1000 random users from a fixed time-period\n",
    "\n",
    "    User UID\n",
    "    Date Joined\n",
    "    Date of First Purchase (if they have made a purchase)\n",
    "    \n",
    "### Track Subscriptions \n",
    "Track subscriptions of the 1000 users in the previous data set.\n",
    "\n",
    "    User UID\n",
    "    Track Slug (Track = Course category)\n",
    "    \n",
    "### Quiz Attempts\n",
    "Quiz Attempts of the 1000 users in the first data set.\n",
    "\n",
    "    User UID\n",
    "    Quiz Attempt UID\n",
    "    Start Datetime\n",
    "    Status\n",
    "    Total Number of questions in the quiz\n",
    "    Number of questions attempted\n",
    "    \n",
    "### Watched Video\n",
    "Video Watch history of the 1000 users in the first data set\n",
    "\n",
    "    User UID\n",
    "    Activity UID\n",
    "    Start Datetime\n",
    "    Duration of the Video\n",
    "    Watched Duration\n",
    "\n",
    "### Interacted Study Cards\n",
    "Study Cards interacted by the 1000 users in the first data set\n",
    "\n",
    "    User UID\n",
    "    Activity UID\n",
    "    Start Datetime"
   ]
  },
  {
   "cell_type": "markdown",
   "metadata": {},
   "source": [
    "### Gathering basic information about the datasets"
   ]
  },
  {
   "cell_type": "code",
   "execution_count": 3,
   "metadata": {},
   "outputs": [
    {
     "data": {
      "text/plain": [
       "((1000, 3), (1578, 3), (21419, 6), (3480, 3), (12907, 6))"
      ]
     },
     "execution_count": 3,
     "metadata": {},
     "output_type": "execute_result"
    }
   ],
   "source": [
    "# No. of rows and columns for each dataset\n",
    "userdetails.shape, subscription.shape, quiz.shape, studycard.shape, videos.shape"
   ]
  },
  {
   "cell_type": "markdown",
   "metadata": {},
   "source": [
    "#### Checking the datatypes and null-value counts for each dataset"
   ]
  },
  {
   "cell_type": "code",
   "execution_count": 4,
   "metadata": {},
   "outputs": [
    {
     "data": {
      "text/html": [
       "<div>\n",
       "<style scoped>\n",
       "    .dataframe tbody tr th:only-of-type {\n",
       "        vertical-align: middle;\n",
       "    }\n",
       "\n",
       "    .dataframe tbody tr th {\n",
       "        vertical-align: top;\n",
       "    }\n",
       "\n",
       "    .dataframe thead th {\n",
       "        text-align: right;\n",
       "    }\n",
       "</style>\n",
       "<table border=\"1\" class=\"dataframe\">\n",
       "  <thead>\n",
       "    <tr style=\"text-align: right;\">\n",
       "      <th></th>\n",
       "      <th>user_uid</th>\n",
       "      <th>date_joined</th>\n",
       "      <th>date_of_first_purhcase</th>\n",
       "    </tr>\n",
       "  </thead>\n",
       "  <tbody>\n",
       "    <tr>\n",
       "      <th>0</th>\n",
       "      <td>6</td>\n",
       "      <td>2021-06-04</td>\n",
       "      <td>2021-06-04</td>\n",
       "    </tr>\n",
       "    <tr>\n",
       "      <th>1</th>\n",
       "      <td>608</td>\n",
       "      <td>2021-06-04</td>\n",
       "      <td>NaN</td>\n",
       "    </tr>\n",
       "    <tr>\n",
       "      <th>2</th>\n",
       "      <td>635</td>\n",
       "      <td>2021-06-04</td>\n",
       "      <td>NaN</td>\n",
       "    </tr>\n",
       "    <tr>\n",
       "      <th>3</th>\n",
       "      <td>745</td>\n",
       "      <td>2021-06-04</td>\n",
       "      <td>NaN</td>\n",
       "    </tr>\n",
       "    <tr>\n",
       "      <th>4</th>\n",
       "      <td>1506</td>\n",
       "      <td>2021-06-04</td>\n",
       "      <td>NaN</td>\n",
       "    </tr>\n",
       "  </tbody>\n",
       "</table>\n",
       "</div>"
      ],
      "text/plain": [
       "   user_uid date_joined date_of_first_purhcase\n",
       "0         6  2021-06-04             2021-06-04\n",
       "1       608  2021-06-04                    NaN\n",
       "2       635  2021-06-04                    NaN\n",
       "3       745  2021-06-04                    NaN\n",
       "4      1506  2021-06-04                    NaN"
      ]
     },
     "execution_count": 4,
     "metadata": {},
     "output_type": "execute_result"
    }
   ],
   "source": [
    "userdetails.head(5)"
   ]
  },
  {
   "cell_type": "code",
   "execution_count": 5,
   "metadata": {},
   "outputs": [
    {
     "name": "stdout",
     "output_type": "stream",
     "text": [
      "<class 'pandas.core.frame.DataFrame'>\n",
      "RangeIndex: 1000 entries, 0 to 999\n",
      "Data columns (total 3 columns):\n",
      " #   Column                  Non-Null Count  Dtype \n",
      "---  ------                  --------------  ----- \n",
      " 0   user_uid                1000 non-null   int64 \n",
      " 1   date_joined             1000 non-null   object\n",
      " 2   date_of_first_purhcase  576 non-null    object\n",
      "dtypes: int64(1), object(2)\n",
      "memory usage: 23.6+ KB\n"
     ]
    }
   ],
   "source": [
    "userdetails.info()"
   ]
  },
  {
   "cell_type": "code",
   "execution_count": 6,
   "metadata": {},
   "outputs": [
    {
     "data": {
      "text/html": [
       "<div>\n",
       "<style scoped>\n",
       "    .dataframe tbody tr th:only-of-type {\n",
       "        vertical-align: middle;\n",
       "    }\n",
       "\n",
       "    .dataframe tbody tr th {\n",
       "        vertical-align: top;\n",
       "    }\n",
       "\n",
       "    .dataframe thead th {\n",
       "        text-align: right;\n",
       "    }\n",
       "</style>\n",
       "<table border=\"1\" class=\"dataframe\">\n",
       "  <thead>\n",
       "    <tr style=\"text-align: right;\">\n",
       "      <th></th>\n",
       "      <th>user_id</th>\n",
       "      <th>track_slug</th>\n",
       "      <th>subscription_date</th>\n",
       "    </tr>\n",
       "  </thead>\n",
       "  <tbody>\n",
       "    <tr>\n",
       "      <th>0</th>\n",
       "      <td>6</td>\n",
       "      <td>kerala-psc</td>\n",
       "      <td>2021-06-04</td>\n",
       "    </tr>\n",
       "    <tr>\n",
       "      <th>1</th>\n",
       "      <td>6</td>\n",
       "      <td>KTET</td>\n",
       "      <td>2021-06-04</td>\n",
       "    </tr>\n",
       "    <tr>\n",
       "      <th>2</th>\n",
       "      <td>608</td>\n",
       "      <td>spoken-english</td>\n",
       "      <td>2021-06-04</td>\n",
       "    </tr>\n",
       "    <tr>\n",
       "      <th>3</th>\n",
       "      <td>608</td>\n",
       "      <td>APPSC</td>\n",
       "      <td>2021-06-04</td>\n",
       "    </tr>\n",
       "    <tr>\n",
       "      <th>4</th>\n",
       "      <td>608</td>\n",
       "      <td>Eng_With_Awal</td>\n",
       "      <td>2021-06-04</td>\n",
       "    </tr>\n",
       "  </tbody>\n",
       "</table>\n",
       "</div>"
      ],
      "text/plain": [
       "   user_id      track_slug subscription_date\n",
       "0        6      kerala-psc        2021-06-04\n",
       "1        6            KTET        2021-06-04\n",
       "2      608  spoken-english        2021-06-04\n",
       "3      608           APPSC        2021-06-04\n",
       "4      608   Eng_With_Awal        2021-06-04"
      ]
     },
     "execution_count": 6,
     "metadata": {},
     "output_type": "execute_result"
    }
   ],
   "source": [
    "subscription.head(5)"
   ]
  },
  {
   "cell_type": "code",
   "execution_count": 7,
   "metadata": {},
   "outputs": [
    {
     "name": "stdout",
     "output_type": "stream",
     "text": [
      "<class 'pandas.core.frame.DataFrame'>\n",
      "RangeIndex: 1578 entries, 0 to 1577\n",
      "Data columns (total 3 columns):\n",
      " #   Column             Non-Null Count  Dtype \n",
      "---  ------             --------------  ----- \n",
      " 0   user_id            1578 non-null   int64 \n",
      " 1   track_slug         1578 non-null   object\n",
      " 2   subscription_date  1578 non-null   object\n",
      "dtypes: int64(1), object(2)\n",
      "memory usage: 37.1+ KB\n"
     ]
    }
   ],
   "source": [
    "subscription.info()"
   ]
  },
  {
   "cell_type": "code",
   "execution_count": 269,
   "metadata": {},
   "outputs": [
    {
     "data": {
      "text/html": [
       "<div>\n",
       "<style scoped>\n",
       "    .dataframe tbody tr th:only-of-type {\n",
       "        vertical-align: middle;\n",
       "    }\n",
       "\n",
       "    .dataframe tbody tr th {\n",
       "        vertical-align: top;\n",
       "    }\n",
       "\n",
       "    .dataframe thead th {\n",
       "        text-align: right;\n",
       "    }\n",
       "</style>\n",
       "<table border=\"1\" class=\"dataframe\">\n",
       "  <thead>\n",
       "    <tr style=\"text-align: right;\">\n",
       "      <th></th>\n",
       "      <th>user_id</th>\n",
       "      <th>attempt_id</th>\n",
       "      <th>started_at</th>\n",
       "      <th>status</th>\n",
       "      <th>no_of_questions</th>\n",
       "      <th>question_attempted</th>\n",
       "      <th>started_at_conv</th>\n",
       "    </tr>\n",
       "  </thead>\n",
       "  <tbody>\n",
       "    <tr>\n",
       "      <th>0</th>\n",
       "      <td>1506</td>\n",
       "      <td>50839743</td>\n",
       "      <td>NaN</td>\n",
       "      <td>CREATE</td>\n",
       "      <td>10</td>\n",
       "      <td>0</td>\n",
       "      <td>NaT</td>\n",
       "    </tr>\n",
       "    <tr>\n",
       "      <th>1</th>\n",
       "      <td>1506</td>\n",
       "      <td>50839752</td>\n",
       "      <td>NaN</td>\n",
       "      <td>PAUSE</td>\n",
       "      <td>10</td>\n",
       "      <td>10</td>\n",
       "      <td>NaT</td>\n",
       "    </tr>\n",
       "    <tr>\n",
       "      <th>2</th>\n",
       "      <td>1642</td>\n",
       "      <td>50842794</td>\n",
       "      <td>2021-06-04 16:52:25.634573+00:00</td>\n",
       "      <td>COMPLETE</td>\n",
       "      <td>10</td>\n",
       "      <td>10</td>\n",
       "      <td>2021-06-04 16:52:25</td>\n",
       "    </tr>\n",
       "    <tr>\n",
       "      <th>3</th>\n",
       "      <td>1642</td>\n",
       "      <td>50843057</td>\n",
       "      <td>2021-06-04 16:55:37.917805+00:00</td>\n",
       "      <td>COMPLETE</td>\n",
       "      <td>10</td>\n",
       "      <td>10</td>\n",
       "      <td>2021-06-04 16:55:37</td>\n",
       "    </tr>\n",
       "    <tr>\n",
       "      <th>4</th>\n",
       "      <td>1642</td>\n",
       "      <td>50843164</td>\n",
       "      <td>NaN</td>\n",
       "      <td>CREATE</td>\n",
       "      <td>10</td>\n",
       "      <td>0</td>\n",
       "      <td>NaT</td>\n",
       "    </tr>\n",
       "  </tbody>\n",
       "</table>\n",
       "</div>"
      ],
      "text/plain": [
       "   user_id  attempt_id                        started_at    status  \\\n",
       "0     1506    50839743                               NaN    CREATE   \n",
       "1     1506    50839752                               NaN     PAUSE   \n",
       "2     1642    50842794  2021-06-04 16:52:25.634573+00:00  COMPLETE   \n",
       "3     1642    50843057  2021-06-04 16:55:37.917805+00:00  COMPLETE   \n",
       "4     1642    50843164                               NaN    CREATE   \n",
       "\n",
       "   no_of_questions  question_attempted     started_at_conv  \n",
       "0               10                   0                 NaT  \n",
       "1               10                  10                 NaT  \n",
       "2               10                  10 2021-06-04 16:52:25  \n",
       "3               10                  10 2021-06-04 16:55:37  \n",
       "4               10                   0                 NaT  "
      ]
     },
     "execution_count": 269,
     "metadata": {},
     "output_type": "execute_result"
    }
   ],
   "source": [
    "quiz.head(5)"
   ]
  },
  {
   "cell_type": "code",
   "execution_count": 9,
   "metadata": {},
   "outputs": [
    {
     "name": "stdout",
     "output_type": "stream",
     "text": [
      "<class 'pandas.core.frame.DataFrame'>\n",
      "RangeIndex: 21419 entries, 0 to 21418\n",
      "Data columns (total 6 columns):\n",
      " #   Column              Non-Null Count  Dtype \n",
      "---  ------              --------------  ----- \n",
      " 0   user_id             21419 non-null  int64 \n",
      " 1   attempt_id          21419 non-null  int64 \n",
      " 2   started_at          21419 non-null  object\n",
      " 3   status              21419 non-null  object\n",
      " 4   no_of_questions     21419 non-null  int64 \n",
      " 5   question_attempted  21419 non-null  int64 \n",
      "dtypes: int64(4), object(2)\n",
      "memory usage: 1004.1+ KB\n"
     ]
    }
   ],
   "source": [
    "quiz.info()"
   ]
  },
  {
   "cell_type": "code",
   "execution_count": 10,
   "metadata": {},
   "outputs": [
    {
     "data": {
      "text/html": [
       "<div>\n",
       "<style scoped>\n",
       "    .dataframe tbody tr th:only-of-type {\n",
       "        vertical-align: middle;\n",
       "    }\n",
       "\n",
       "    .dataframe tbody tr th {\n",
       "        vertical-align: top;\n",
       "    }\n",
       "\n",
       "    .dataframe thead th {\n",
       "        text-align: right;\n",
       "    }\n",
       "</style>\n",
       "<table border=\"1\" class=\"dataframe\">\n",
       "  <thead>\n",
       "    <tr style=\"text-align: right;\">\n",
       "      <th></th>\n",
       "      <th>user_id</th>\n",
       "      <th>activity_id</th>\n",
       "      <th>start_time</th>\n",
       "    </tr>\n",
       "  </thead>\n",
       "  <tbody>\n",
       "    <tr>\n",
       "      <th>0</th>\n",
       "      <td>1642</td>\n",
       "      <td>4197126</td>\n",
       "      <td>2021-06-04 16:51:51.454473+00:00</td>\n",
       "    </tr>\n",
       "    <tr>\n",
       "      <th>1</th>\n",
       "      <td>1642</td>\n",
       "      <td>4197075</td>\n",
       "      <td>2021-06-04 16:43:10.115201+00:00</td>\n",
       "    </tr>\n",
       "    <tr>\n",
       "      <th>2</th>\n",
       "      <td>1642</td>\n",
       "      <td>4197074</td>\n",
       "      <td>2021-06-04 16:43:10.082261+00:00</td>\n",
       "    </tr>\n",
       "    <tr>\n",
       "      <th>3</th>\n",
       "      <td>1642</td>\n",
       "      <td>4197577</td>\n",
       "      <td>2021-06-04 18:20:58.487196+00:00</td>\n",
       "    </tr>\n",
       "    <tr>\n",
       "      <th>4</th>\n",
       "      <td>1642</td>\n",
       "      <td>4197174</td>\n",
       "      <td>2021-06-04 16:57:46.487970+00:00</td>\n",
       "    </tr>\n",
       "  </tbody>\n",
       "</table>\n",
       "</div>"
      ],
      "text/plain": [
       "   user_id  activity_id                        start_time\n",
       "0     1642      4197126  2021-06-04 16:51:51.454473+00:00\n",
       "1     1642      4197075  2021-06-04 16:43:10.115201+00:00\n",
       "2     1642      4197074  2021-06-04 16:43:10.082261+00:00\n",
       "3     1642      4197577  2021-06-04 18:20:58.487196+00:00\n",
       "4     1642      4197174  2021-06-04 16:57:46.487970+00:00"
      ]
     },
     "execution_count": 10,
     "metadata": {},
     "output_type": "execute_result"
    }
   ],
   "source": [
    "studycard.head(5)"
   ]
  },
  {
   "cell_type": "code",
   "execution_count": 11,
   "metadata": {},
   "outputs": [
    {
     "name": "stdout",
     "output_type": "stream",
     "text": [
      "<class 'pandas.core.frame.DataFrame'>\n",
      "RangeIndex: 3480 entries, 0 to 3479\n",
      "Data columns (total 3 columns):\n",
      " #   Column       Non-Null Count  Dtype \n",
      "---  ------       --------------  ----- \n",
      " 0   user_id      3480 non-null   int64 \n",
      " 1   activity_id  3480 non-null   int64 \n",
      " 2   start_time   3480 non-null   object\n",
      "dtypes: int64(2), object(1)\n",
      "memory usage: 81.7+ KB\n"
     ]
    }
   ],
   "source": [
    "studycard.info()"
   ]
  },
  {
   "cell_type": "code",
   "execution_count": 12,
   "metadata": {},
   "outputs": [
    {
     "data": {
      "text/html": [
       "<div>\n",
       "<style scoped>\n",
       "    .dataframe tbody tr th:only-of-type {\n",
       "        vertical-align: middle;\n",
       "    }\n",
       "\n",
       "    .dataframe tbody tr th {\n",
       "        vertical-align: top;\n",
       "    }\n",
       "\n",
       "    .dataframe thead th {\n",
       "        text-align: right;\n",
       "    }\n",
       "</style>\n",
       "<table border=\"1\" class=\"dataframe\">\n",
       "  <thead>\n",
       "    <tr style=\"text-align: right;\">\n",
       "      <th></th>\n",
       "      <th>user_id</th>\n",
       "      <th>watch_instance_id</th>\n",
       "      <th>watched_at</th>\n",
       "      <th>video_id</th>\n",
       "      <th>duration</th>\n",
       "      <th>watched_duration</th>\n",
       "    </tr>\n",
       "  </thead>\n",
       "  <tbody>\n",
       "    <tr>\n",
       "      <th>0</th>\n",
       "      <td>6</td>\n",
       "      <td>24552452</td>\n",
       "      <td>2021-06-12 18:13:40.347392+00:00</td>\n",
       "      <td>25261</td>\n",
       "      <td>934</td>\n",
       "      <td>2</td>\n",
       "    </tr>\n",
       "    <tr>\n",
       "      <th>1</th>\n",
       "      <td>6</td>\n",
       "      <td>24552735</td>\n",
       "      <td>2021-06-12 18:21:45.362998+00:00</td>\n",
       "      <td>25262</td>\n",
       "      <td>398</td>\n",
       "      <td>398</td>\n",
       "    </tr>\n",
       "    <tr>\n",
       "      <th>2</th>\n",
       "      <td>6</td>\n",
       "      <td>24011079</td>\n",
       "      <td>2021-06-04 18:27:01.296468+00:00</td>\n",
       "      <td>24920</td>\n",
       "      <td>1589</td>\n",
       "      <td>55</td>\n",
       "    </tr>\n",
       "    <tr>\n",
       "      <th>3</th>\n",
       "      <td>6</td>\n",
       "      <td>24011800</td>\n",
       "      <td>2021-06-04 18:51:27.450857+00:00</td>\n",
       "      <td>24531</td>\n",
       "      <td>319</td>\n",
       "      <td>28</td>\n",
       "    </tr>\n",
       "    <tr>\n",
       "      <th>4</th>\n",
       "      <td>6</td>\n",
       "      <td>24249571</td>\n",
       "      <td>2021-06-08 11:19:02.187747+00:00</td>\n",
       "      <td>32825</td>\n",
       "      <td>317</td>\n",
       "      <td>15</td>\n",
       "    </tr>\n",
       "  </tbody>\n",
       "</table>\n",
       "</div>"
      ],
      "text/plain": [
       "   user_id  watch_instance_id                        watched_at  video_id  \\\n",
       "0        6           24552452  2021-06-12 18:13:40.347392+00:00     25261   \n",
       "1        6           24552735  2021-06-12 18:21:45.362998+00:00     25262   \n",
       "2        6           24011079  2021-06-04 18:27:01.296468+00:00     24920   \n",
       "3        6           24011800  2021-06-04 18:51:27.450857+00:00     24531   \n",
       "4        6           24249571  2021-06-08 11:19:02.187747+00:00     32825   \n",
       "\n",
       "   duration  watched_duration  \n",
       "0       934                 2  \n",
       "1       398               398  \n",
       "2      1589                55  \n",
       "3       319                28  \n",
       "4       317                15  "
      ]
     },
     "execution_count": 12,
     "metadata": {},
     "output_type": "execute_result"
    }
   ],
   "source": [
    "videos.head(5)"
   ]
  },
  {
   "cell_type": "code",
   "execution_count": 13,
   "metadata": {},
   "outputs": [
    {
     "name": "stdout",
     "output_type": "stream",
     "text": [
      "<class 'pandas.core.frame.DataFrame'>\n",
      "RangeIndex: 12907 entries, 0 to 12906\n",
      "Data columns (total 6 columns):\n",
      " #   Column             Non-Null Count  Dtype \n",
      "---  ------             --------------  ----- \n",
      " 0   user_id            12907 non-null  int64 \n",
      " 1   watch_instance_id  12907 non-null  int64 \n",
      " 2   watched_at         12907 non-null  object\n",
      " 3   video_id           12907 non-null  int64 \n",
      " 4   duration           12907 non-null  int64 \n",
      " 5   watched_duration   12907 non-null  int64 \n",
      "dtypes: int64(5), object(1)\n",
      "memory usage: 605.1+ KB\n"
     ]
    }
   ],
   "source": [
    "videos.info()"
   ]
  },
  {
   "cell_type": "markdown",
   "metadata": {},
   "source": [
    "<br><br>"
   ]
  },
  {
   "cell_type": "markdown",
   "metadata": {},
   "source": [
    "## Data Cleaning"
   ]
  },
  {
   "cell_type": "markdown",
   "metadata": {},
   "source": [
    "#### Userdetails"
   ]
  },
  {
   "cell_type": "code",
   "execution_count": 14,
   "metadata": {},
   "outputs": [],
   "source": [
    "# userdetails has null values which corresponds to unpaid users\n",
    "# therefore we want to keep those rows\n",
    "#\n",
    "# converting columns containing date to datetime format"
   ]
  },
  {
   "cell_type": "code",
   "execution_count": 15,
   "metadata": {},
   "outputs": [],
   "source": [
    "userdetails['date_joined'] = pd.to_datetime(userdetails['date_joined'])\n",
    "userdetails['date_of_first_purhcase'] = pd.to_datetime(userdetails['date_of_first_purhcase'])"
   ]
  },
  {
   "cell_type": "code",
   "execution_count": 16,
   "metadata": {},
   "outputs": [
    {
     "data": {
      "text/plain": [
       "user_uid                           int64\n",
       "date_joined               datetime64[ns]\n",
       "date_of_first_purhcase    datetime64[ns]\n",
       "dtype: object"
      ]
     },
     "execution_count": 16,
     "metadata": {},
     "output_type": "execute_result"
    }
   ],
   "source": [
    "userdetails.dtypes"
   ]
  },
  {
   "cell_type": "markdown",
   "metadata": {},
   "source": [
    "#### Subscription"
   ]
  },
  {
   "cell_type": "code",
   "execution_count": 17,
   "metadata": {},
   "outputs": [],
   "source": [
    "# converting columns containing date to datetime format\n",
    "\n",
    "subscription['subscription_date'] = pd.to_datetime(subscription['subscription_date'])"
   ]
  },
  {
   "cell_type": "code",
   "execution_count": 18,
   "metadata": {},
   "outputs": [
    {
     "data": {
      "text/plain": [
       "user_id                       int64\n",
       "track_slug                   object\n",
       "subscription_date    datetime64[ns]\n",
       "dtype: object"
      ]
     },
     "execution_count": 18,
     "metadata": {},
     "output_type": "execute_result"
    }
   ],
   "source": [
    "subscription.dtypes"
   ]
  },
  {
   "cell_type": "markdown",
   "metadata": {},
   "source": [
    "#### Quiz"
   ]
  },
  {
   "cell_type": "code",
   "execution_count": 19,
   "metadata": {},
   "outputs": [
    {
     "name": "stdout",
     "output_type": "stream",
     "text": [
      "<class 'pandas.core.frame.DataFrame'>\n",
      "RangeIndex: 21419 entries, 0 to 21418\n",
      "Data columns (total 6 columns):\n",
      " #   Column              Non-Null Count  Dtype \n",
      "---  ------              --------------  ----- \n",
      " 0   user_id             21419 non-null  int64 \n",
      " 1   attempt_id          21419 non-null  int64 \n",
      " 2   started_at          21419 non-null  object\n",
      " 3   status              21419 non-null  object\n",
      " 4   no_of_questions     21419 non-null  int64 \n",
      " 5   question_attempted  21419 non-null  int64 \n",
      "dtypes: int64(4), object(2)\n",
      "memory usage: 1004.1+ KB\n"
     ]
    }
   ],
   "source": [
    "quiz.info()"
   ]
  },
  {
   "cell_type": "code",
   "execution_count": 20,
   "metadata": {},
   "outputs": [
    {
     "data": {
      "text/plain": [
       "array(['None', '2021-06-04 16:52:25.634573+00:00',\n",
       "       '2021-06-04 16:55:37.917805+00:00', ...,\n",
       "       '2021-08-03 11:45:36.775317+00:00',\n",
       "       '2021-08-03 11:46:23.252837+00:00',\n",
       "       '2021-08-03 11:48:02.889819+00:00'], dtype=object)"
      ]
     },
     "execution_count": 20,
     "metadata": {},
     "output_type": "execute_result"
    }
   ],
   "source": [
    "# type of values 'started_at' holds\n",
    "quiz['started_at'].unique()"
   ]
  },
  {
   "cell_type": "code",
   "execution_count": 21,
   "metadata": {},
   "outputs": [],
   "source": [
    "# Quiz has values marked as None which corresponds to null values\n",
    "# This needs to be replaced by NaN\n",
    "\n",
    "quiz['started_at'].replace('None', np.nan, inplace=True)"
   ]
  },
  {
   "cell_type": "code",
   "execution_count": 22,
   "metadata": {},
   "outputs": [
    {
     "data": {
      "text/plain": [
       "0                                 NaN\n",
       "1                                 NaN\n",
       "2    2021-06-04 16:52:25.634573+00:00\n",
       "Name: started_at, dtype: object"
      ]
     },
     "execution_count": 22,
     "metadata": {},
     "output_type": "execute_result"
    }
   ],
   "source": [
    "quiz['started_at'].head(3)"
   ]
  },
  {
   "cell_type": "code",
   "execution_count": 23,
   "metadata": {},
   "outputs": [],
   "source": [
    "# Function to convert timestamp to datetime\n",
    "def timestamp_to_datetime(col, tformat):\n",
    "    return pd.to_datetime(pd.to_datetime(col).dt.strftime(tformat))\n"
   ]
  },
  {
   "cell_type": "code",
   "execution_count": 24,
   "metadata": {},
   "outputs": [],
   "source": [
    "# creating a new column with datetime type with only y-m-d h:m:s\n",
    "quiz['started_at_conv'] = timestamp_to_datetime(quiz['started_at'],'%Y-%m-%d %H:%M:%S')"
   ]
  },
  {
   "cell_type": "code",
   "execution_count": 25,
   "metadata": {},
   "outputs": [
    {
     "data": {
      "text/plain": [
       "user_id                        int64\n",
       "attempt_id                     int64\n",
       "started_at                    object\n",
       "status                        object\n",
       "no_of_questions                int64\n",
       "question_attempted             int64\n",
       "started_at_conv       datetime64[ns]\n",
       "dtype: object"
      ]
     },
     "execution_count": 25,
     "metadata": {},
     "output_type": "execute_result"
    }
   ],
   "source": [
    "quiz.dtypes"
   ]
  },
  {
   "cell_type": "code",
   "execution_count": 26,
   "metadata": {},
   "outputs": [
    {
     "data": {
      "text/html": [
       "<div>\n",
       "<style scoped>\n",
       "    .dataframe tbody tr th:only-of-type {\n",
       "        vertical-align: middle;\n",
       "    }\n",
       "\n",
       "    .dataframe tbody tr th {\n",
       "        vertical-align: top;\n",
       "    }\n",
       "\n",
       "    .dataframe thead th {\n",
       "        text-align: right;\n",
       "    }\n",
       "</style>\n",
       "<table border=\"1\" class=\"dataframe\">\n",
       "  <thead>\n",
       "    <tr style=\"text-align: right;\">\n",
       "      <th></th>\n",
       "      <th>user_id</th>\n",
       "      <th>attempt_id</th>\n",
       "      <th>started_at</th>\n",
       "      <th>status</th>\n",
       "      <th>no_of_questions</th>\n",
       "      <th>question_attempted</th>\n",
       "      <th>started_at_conv</th>\n",
       "    </tr>\n",
       "  </thead>\n",
       "  <tbody>\n",
       "    <tr>\n",
       "      <th>0</th>\n",
       "      <td>1506</td>\n",
       "      <td>50839743</td>\n",
       "      <td>NaN</td>\n",
       "      <td>CREATE</td>\n",
       "      <td>10</td>\n",
       "      <td>0</td>\n",
       "      <td>NaT</td>\n",
       "    </tr>\n",
       "    <tr>\n",
       "      <th>1</th>\n",
       "      <td>1506</td>\n",
       "      <td>50839752</td>\n",
       "      <td>NaN</td>\n",
       "      <td>PAUSE</td>\n",
       "      <td>10</td>\n",
       "      <td>10</td>\n",
       "      <td>NaT</td>\n",
       "    </tr>\n",
       "    <tr>\n",
       "      <th>2</th>\n",
       "      <td>1642</td>\n",
       "      <td>50842794</td>\n",
       "      <td>2021-06-04 16:52:25.634573+00:00</td>\n",
       "      <td>COMPLETE</td>\n",
       "      <td>10</td>\n",
       "      <td>10</td>\n",
       "      <td>2021-06-04 16:52:25</td>\n",
       "    </tr>\n",
       "    <tr>\n",
       "      <th>3</th>\n",
       "      <td>1642</td>\n",
       "      <td>50843057</td>\n",
       "      <td>2021-06-04 16:55:37.917805+00:00</td>\n",
       "      <td>COMPLETE</td>\n",
       "      <td>10</td>\n",
       "      <td>10</td>\n",
       "      <td>2021-06-04 16:55:37</td>\n",
       "    </tr>\n",
       "    <tr>\n",
       "      <th>4</th>\n",
       "      <td>1642</td>\n",
       "      <td>50843164</td>\n",
       "      <td>NaN</td>\n",
       "      <td>CREATE</td>\n",
       "      <td>10</td>\n",
       "      <td>0</td>\n",
       "      <td>NaT</td>\n",
       "    </tr>\n",
       "  </tbody>\n",
       "</table>\n",
       "</div>"
      ],
      "text/plain": [
       "   user_id  attempt_id                        started_at    status  \\\n",
       "0     1506    50839743                               NaN    CREATE   \n",
       "1     1506    50839752                               NaN     PAUSE   \n",
       "2     1642    50842794  2021-06-04 16:52:25.634573+00:00  COMPLETE   \n",
       "3     1642    50843057  2021-06-04 16:55:37.917805+00:00  COMPLETE   \n",
       "4     1642    50843164                               NaN    CREATE   \n",
       "\n",
       "   no_of_questions  question_attempted     started_at_conv  \n",
       "0               10                   0                 NaT  \n",
       "1               10                  10                 NaT  \n",
       "2               10                  10 2021-06-04 16:52:25  \n",
       "3               10                  10 2021-06-04 16:55:37  \n",
       "4               10                   0                 NaT  "
      ]
     },
     "execution_count": 26,
     "metadata": {},
     "output_type": "execute_result"
    }
   ],
   "source": [
    "quiz.head(5)"
   ]
  },
  {
   "cell_type": "markdown",
   "metadata": {},
   "source": [
    "#### Studycard"
   ]
  },
  {
   "cell_type": "code",
   "execution_count": 27,
   "metadata": {},
   "outputs": [],
   "source": [
    "# creating a new column with datetime type with only y-m-d h:m:s\n",
    "\n",
    "studycard['start_time_conv'] = timestamp_to_datetime(studycard['start_time'], '%Y-%m-%d %H:%M:%S')"
   ]
  },
  {
   "cell_type": "code",
   "execution_count": 28,
   "metadata": {},
   "outputs": [
    {
     "data": {
      "text/plain": [
       "user_id                     int64\n",
       "activity_id                 int64\n",
       "start_time                 object\n",
       "start_time_conv    datetime64[ns]\n",
       "dtype: object"
      ]
     },
     "execution_count": 28,
     "metadata": {},
     "output_type": "execute_result"
    }
   ],
   "source": [
    "studycard.dtypes"
   ]
  },
  {
   "cell_type": "code",
   "execution_count": 29,
   "metadata": {},
   "outputs": [
    {
     "data": {
      "text/html": [
       "<div>\n",
       "<style scoped>\n",
       "    .dataframe tbody tr th:only-of-type {\n",
       "        vertical-align: middle;\n",
       "    }\n",
       "\n",
       "    .dataframe tbody tr th {\n",
       "        vertical-align: top;\n",
       "    }\n",
       "\n",
       "    .dataframe thead th {\n",
       "        text-align: right;\n",
       "    }\n",
       "</style>\n",
       "<table border=\"1\" class=\"dataframe\">\n",
       "  <thead>\n",
       "    <tr style=\"text-align: right;\">\n",
       "      <th></th>\n",
       "      <th>user_id</th>\n",
       "      <th>activity_id</th>\n",
       "      <th>start_time</th>\n",
       "      <th>start_time_conv</th>\n",
       "    </tr>\n",
       "  </thead>\n",
       "  <tbody>\n",
       "    <tr>\n",
       "      <th>0</th>\n",
       "      <td>1642</td>\n",
       "      <td>4197126</td>\n",
       "      <td>2021-06-04 16:51:51.454473+00:00</td>\n",
       "      <td>2021-06-04 16:51:51</td>\n",
       "    </tr>\n",
       "    <tr>\n",
       "      <th>1</th>\n",
       "      <td>1642</td>\n",
       "      <td>4197075</td>\n",
       "      <td>2021-06-04 16:43:10.115201+00:00</td>\n",
       "      <td>2021-06-04 16:43:10</td>\n",
       "    </tr>\n",
       "  </tbody>\n",
       "</table>\n",
       "</div>"
      ],
      "text/plain": [
       "   user_id  activity_id                        start_time     start_time_conv\n",
       "0     1642      4197126  2021-06-04 16:51:51.454473+00:00 2021-06-04 16:51:51\n",
       "1     1642      4197075  2021-06-04 16:43:10.115201+00:00 2021-06-04 16:43:10"
      ]
     },
     "execution_count": 29,
     "metadata": {},
     "output_type": "execute_result"
    }
   ],
   "source": [
    "studycard.head(2)"
   ]
  },
  {
   "cell_type": "markdown",
   "metadata": {},
   "source": [
    "#### Videos"
   ]
  },
  {
   "cell_type": "code",
   "execution_count": 30,
   "metadata": {},
   "outputs": [],
   "source": [
    "# creating a new column with datetime type with only y-m-d h:m:s\n",
    "videos['watched_at_conv'] = timestamp_to_datetime(videos['watched_at'], '%Y-%m-%d %H:%M:%S')"
   ]
  },
  {
   "cell_type": "code",
   "execution_count": 31,
   "metadata": {},
   "outputs": [
    {
     "data": {
      "text/html": [
       "<div>\n",
       "<style scoped>\n",
       "    .dataframe tbody tr th:only-of-type {\n",
       "        vertical-align: middle;\n",
       "    }\n",
       "\n",
       "    .dataframe tbody tr th {\n",
       "        vertical-align: top;\n",
       "    }\n",
       "\n",
       "    .dataframe thead th {\n",
       "        text-align: right;\n",
       "    }\n",
       "</style>\n",
       "<table border=\"1\" class=\"dataframe\">\n",
       "  <thead>\n",
       "    <tr style=\"text-align: right;\">\n",
       "      <th></th>\n",
       "      <th>user_id</th>\n",
       "      <th>watch_instance_id</th>\n",
       "      <th>watched_at</th>\n",
       "      <th>video_id</th>\n",
       "      <th>duration</th>\n",
       "      <th>watched_duration</th>\n",
       "      <th>watched_at_conv</th>\n",
       "    </tr>\n",
       "  </thead>\n",
       "  <tbody>\n",
       "    <tr>\n",
       "      <th>0</th>\n",
       "      <td>6</td>\n",
       "      <td>24552452</td>\n",
       "      <td>2021-06-12 18:13:40.347392+00:00</td>\n",
       "      <td>25261</td>\n",
       "      <td>934</td>\n",
       "      <td>2</td>\n",
       "      <td>2021-06-12 18:13:40</td>\n",
       "    </tr>\n",
       "    <tr>\n",
       "      <th>1</th>\n",
       "      <td>6</td>\n",
       "      <td>24552735</td>\n",
       "      <td>2021-06-12 18:21:45.362998+00:00</td>\n",
       "      <td>25262</td>\n",
       "      <td>398</td>\n",
       "      <td>398</td>\n",
       "      <td>2021-06-12 18:21:45</td>\n",
       "    </tr>\n",
       "  </tbody>\n",
       "</table>\n",
       "</div>"
      ],
      "text/plain": [
       "   user_id  watch_instance_id                        watched_at  video_id  \\\n",
       "0        6           24552452  2021-06-12 18:13:40.347392+00:00     25261   \n",
       "1        6           24552735  2021-06-12 18:21:45.362998+00:00     25262   \n",
       "\n",
       "   duration  watched_duration     watched_at_conv  \n",
       "0       934                 2 2021-06-12 18:13:40  \n",
       "1       398               398 2021-06-12 18:21:45  "
      ]
     },
     "execution_count": 31,
     "metadata": {},
     "output_type": "execute_result"
    }
   ],
   "source": [
    "videos.head(2)"
   ]
  },
  {
   "cell_type": "code",
   "execution_count": 32,
   "metadata": {},
   "outputs": [
    {
     "data": {
      "text/plain": [
       "user_id                       int64\n",
       "watch_instance_id             int64\n",
       "watched_at                   object\n",
       "video_id                      int64\n",
       "duration                      int64\n",
       "watched_duration              int64\n",
       "watched_at_conv      datetime64[ns]\n",
       "dtype: object"
      ]
     },
     "execution_count": 32,
     "metadata": {},
     "output_type": "execute_result"
    }
   ],
   "source": [
    "videos.dtypes"
   ]
  },
  {
   "cell_type": "code",
   "execution_count": null,
   "metadata": {},
   "outputs": [],
   "source": []
  },
  {
   "cell_type": "code",
   "execution_count": 34,
   "metadata": {},
   "outputs": [],
   "source": [
    "# creating a column to recognize paid users\n",
    "\n",
    "userdetails['paid'] = False"
   ]
  },
  {
   "cell_type": "code",
   "execution_count": 35,
   "metadata": {},
   "outputs": [],
   "source": [
    "# target columns only with a purchase and mark them as 'paid'\n",
    "userdetails.loc[~userdetails['date_of_first_purhcase'].isnull(), 'paid'] = True"
   ]
  },
  {
   "cell_type": "code",
   "execution_count": 36,
   "metadata": {},
   "outputs": [
    {
     "data": {
      "text/html": [
       "<div>\n",
       "<style scoped>\n",
       "    .dataframe tbody tr th:only-of-type {\n",
       "        vertical-align: middle;\n",
       "    }\n",
       "\n",
       "    .dataframe tbody tr th {\n",
       "        vertical-align: top;\n",
       "    }\n",
       "\n",
       "    .dataframe thead th {\n",
       "        text-align: right;\n",
       "    }\n",
       "</style>\n",
       "<table border=\"1\" class=\"dataframe\">\n",
       "  <thead>\n",
       "    <tr style=\"text-align: right;\">\n",
       "      <th></th>\n",
       "      <th>user_uid</th>\n",
       "      <th>date_joined</th>\n",
       "      <th>date_of_first_purhcase</th>\n",
       "      <th>paid</th>\n",
       "    </tr>\n",
       "  </thead>\n",
       "  <tbody>\n",
       "    <tr>\n",
       "      <th>0</th>\n",
       "      <td>6</td>\n",
       "      <td>2021-06-04</td>\n",
       "      <td>2021-06-04</td>\n",
       "      <td>True</td>\n",
       "    </tr>\n",
       "    <tr>\n",
       "      <th>1</th>\n",
       "      <td>608</td>\n",
       "      <td>2021-06-04</td>\n",
       "      <td>NaT</td>\n",
       "      <td>False</td>\n",
       "    </tr>\n",
       "    <tr>\n",
       "      <th>2</th>\n",
       "      <td>635</td>\n",
       "      <td>2021-06-04</td>\n",
       "      <td>NaT</td>\n",
       "      <td>False</td>\n",
       "    </tr>\n",
       "    <tr>\n",
       "      <th>3</th>\n",
       "      <td>745</td>\n",
       "      <td>2021-06-04</td>\n",
       "      <td>NaT</td>\n",
       "      <td>False</td>\n",
       "    </tr>\n",
       "    <tr>\n",
       "      <th>4</th>\n",
       "      <td>1506</td>\n",
       "      <td>2021-06-04</td>\n",
       "      <td>NaT</td>\n",
       "      <td>False</td>\n",
       "    </tr>\n",
       "  </tbody>\n",
       "</table>\n",
       "</div>"
      ],
      "text/plain": [
       "   user_uid date_joined date_of_first_purhcase   paid\n",
       "0         6  2021-06-04             2021-06-04   True\n",
       "1       608  2021-06-04                    NaT  False\n",
       "2       635  2021-06-04                    NaT  False\n",
       "3       745  2021-06-04                    NaT  False\n",
       "4      1506  2021-06-04                    NaT  False"
      ]
     },
     "execution_count": 36,
     "metadata": {},
     "output_type": "execute_result"
    }
   ],
   "source": [
    "userdetails.head(5)"
   ]
  },
  {
   "cell_type": "markdown",
   "metadata": {},
   "source": [
    "<br><br>"
   ]
  },
  {
   "cell_type": "markdown",
   "metadata": {},
   "source": [
    "## Analysis"
   ]
  },
  {
   "cell_type": "markdown",
   "metadata": {},
   "source": [
    "#### No. of paid and unpaid users"
   ]
  },
  {
   "cell_type": "code",
   "execution_count": 37,
   "metadata": {},
   "outputs": [
    {
     "data": {
      "text/plain": [
       "True     576\n",
       "False    424\n",
       "Name: paid, dtype: int64"
      ]
     },
     "execution_count": 37,
     "metadata": {},
     "output_type": "execute_result"
    }
   ],
   "source": [
    "# Counting True and False which corresponds to paid and unpaid users\n",
    "userdetails['paid'].value_counts()"
   ]
  },
  {
   "cell_type": "code",
   "execution_count": 38,
   "metadata": {},
   "outputs": [
    {
     "data": {
      "text/plain": [
       "(57.599999999999994, 42.4)"
      ]
     },
     "execution_count": 38,
     "metadata": {},
     "output_type": "execute_result"
    }
   ],
   "source": [
    "# Percentage of paid users\n",
    "total_users = userdetails['paid'].shape[0]\n",
    "total_paid_users = userdetails['paid'].sum()\n",
    "total_unpaid_users = total_users - total_paid_users\n",
    "\n",
    "Perc_of_paid_users = (total_paid_users / total_users) * 100\n",
    "Perc_of_unpaid_users = ( total_unpaid_users / total_users) * 100\n",
    "\n",
    "Perc_of_paid_users, Perc_of_unpaid_users"
   ]
  },
  {
   "cell_type": "markdown",
   "metadata": {},
   "source": [
    "Paid Users:  **57.59%** (576)\n",
    "\n",
    "Unpaid Users:**42.4%** (424)"
   ]
  },
  {
   "cell_type": "code",
   "execution_count": 39,
   "metadata": {},
   "outputs": [
    {
     "data": {
      "image/png": "[encoded data removed]",
      "text/plain": [
       "<Figure size 576x396 with 1 Axes>"
      ]
     },
     "metadata": {},
     "output_type": "display_data"
    }
   ],
   "source": [
    "# plotting the percentage of paid and unpaid users on a pie chart\n",
    "plt.style.use('seaborn')\n",
    "plt.pie(list([Perc_of_paid_users,Perc_of_unpaid_users]),\n",
    "        labels=list(['Paid Users', 'Unpaid Users']),\n",
    "       autopct='%1.1f%%',\n",
    "       wedgeprops={'edgecolor':'#000000'},\n",
    "       explode=[0.02,0])\n",
    "\n",
    "plt.title('Percentage of Paid and Unpaid users')\n",
    "plt.show()"
   ]
  },
  {
   "cell_type": "markdown",
   "metadata": {},
   "source": [
    "<br>"
   ]
  },
  {
   "cell_type": "markdown",
   "metadata": {},
   "source": [
    "#### Days paid users took before signing up"
   ]
  },
  {
   "cell_type": "code",
   "execution_count": 40,
   "metadata": {},
   "outputs": [],
   "source": [
    "# column to contain the no. of days from joining to first purchase\n",
    "userdetails['days_to_signup'] = np.nan"
   ]
  },
  {
   "cell_type": "code",
   "execution_count": 41,
   "metadata": {},
   "outputs": [],
   "source": [
    "# time difference in days\n",
    "userdetails.loc[userdetails['paid']==True, 'days_to_signup'] = (userdetails['date_of_first_purhcase'] - userdetails['date_joined']).dt.days"
   ]
  },
  {
   "cell_type": "code",
   "execution_count": 42,
   "metadata": {},
   "outputs": [],
   "source": [
    "# converting to int\n",
    "userdetails.loc[userdetails['paid']==True, 'days_to_signup'] = userdetails.loc[userdetails['paid']==True, 'days_to_signup'].astype(float)"
   ]
  },
  {
   "cell_type": "code",
   "execution_count": 43,
   "metadata": {},
   "outputs": [
    {
     "data": {
      "text/html": [
       "<div>\n",
       "<style scoped>\n",
       "    .dataframe tbody tr th:only-of-type {\n",
       "        vertical-align: middle;\n",
       "    }\n",
       "\n",
       "    .dataframe tbody tr th {\n",
       "        vertical-align: top;\n",
       "    }\n",
       "\n",
       "    .dataframe thead th {\n",
       "        text-align: right;\n",
       "    }\n",
       "</style>\n",
       "<table border=\"1\" class=\"dataframe\">\n",
       "  <thead>\n",
       "    <tr style=\"text-align: right;\">\n",
       "      <th></th>\n",
       "      <th>user_uid</th>\n",
       "      <th>date_joined</th>\n",
       "      <th>date_of_first_purhcase</th>\n",
       "      <th>paid</th>\n",
       "      <th>days_to_signup</th>\n",
       "    </tr>\n",
       "  </thead>\n",
       "  <tbody>\n",
       "    <tr>\n",
       "      <th>0</th>\n",
       "      <td>6</td>\n",
       "      <td>2021-06-04</td>\n",
       "      <td>2021-06-04</td>\n",
       "      <td>True</td>\n",
       "      <td>0.0</td>\n",
       "    </tr>\n",
       "    <tr>\n",
       "      <th>509</th>\n",
       "      <td>193673</td>\n",
       "      <td>2021-07-03</td>\n",
       "      <td>2021-07-03</td>\n",
       "      <td>True</td>\n",
       "      <td>0.0</td>\n",
       "    </tr>\n",
       "    <tr>\n",
       "      <th>506</th>\n",
       "      <td>191761</td>\n",
       "      <td>2021-07-03</td>\n",
       "      <td>2021-07-03</td>\n",
       "      <td>True</td>\n",
       "      <td>0.0</td>\n",
       "    </tr>\n",
       "    <tr>\n",
       "      <th>505</th>\n",
       "      <td>190771</td>\n",
       "      <td>2021-07-02</td>\n",
       "      <td>2021-07-02</td>\n",
       "      <td>True</td>\n",
       "      <td>0.0</td>\n",
       "    </tr>\n",
       "    <tr>\n",
       "      <th>497</th>\n",
       "      <td>188965</td>\n",
       "      <td>2021-07-02</td>\n",
       "      <td>2021-07-02</td>\n",
       "      <td>True</td>\n",
       "      <td>0.0</td>\n",
       "    </tr>\n",
       "    <tr>\n",
       "      <th>...</th>\n",
       "      <td>...</td>\n",
       "      <td>...</td>\n",
       "      <td>...</td>\n",
       "      <td>...</td>\n",
       "      <td>...</td>\n",
       "    </tr>\n",
       "    <tr>\n",
       "      <th>266</th>\n",
       "      <td>103374</td>\n",
       "      <td>2021-06-17</td>\n",
       "      <td>2021-07-19</td>\n",
       "      <td>True</td>\n",
       "      <td>32.0</td>\n",
       "    </tr>\n",
       "    <tr>\n",
       "      <th>423</th>\n",
       "      <td>168346</td>\n",
       "      <td>2021-06-28</td>\n",
       "      <td>2021-08-01</td>\n",
       "      <td>True</td>\n",
       "      <td>34.0</td>\n",
       "    </tr>\n",
       "    <tr>\n",
       "      <th>222</th>\n",
       "      <td>80603</td>\n",
       "      <td>2021-06-14</td>\n",
       "      <td>2021-07-19</td>\n",
       "      <td>True</td>\n",
       "      <td>35.0</td>\n",
       "    </tr>\n",
       "    <tr>\n",
       "      <th>144</th>\n",
       "      <td>46605</td>\n",
       "      <td>2021-06-10</td>\n",
       "      <td>2021-07-25</td>\n",
       "      <td>True</td>\n",
       "      <td>45.0</td>\n",
       "    </tr>\n",
       "    <tr>\n",
       "      <th>230</th>\n",
       "      <td>87068</td>\n",
       "      <td>2021-06-15</td>\n",
       "      <td>2021-08-02</td>\n",
       "      <td>True</td>\n",
       "      <td>48.0</td>\n",
       "    </tr>\n",
       "  </tbody>\n",
       "</table>\n",
       "<p>493 rows × 5 columns</p>\n",
       "</div>"
      ],
      "text/plain": [
       "     user_uid date_joined date_of_first_purhcase  paid  days_to_signup\n",
       "0           6  2021-06-04             2021-06-04  True             0.0\n",
       "509    193673  2021-07-03             2021-07-03  True             0.0\n",
       "506    191761  2021-07-03             2021-07-03  True             0.0\n",
       "505    190771  2021-07-02             2021-07-02  True             0.0\n",
       "497    188965  2021-07-02             2021-07-02  True             0.0\n",
       "..        ...         ...                    ...   ...             ...\n",
       "266    103374  2021-06-17             2021-07-19  True            32.0\n",
       "423    168346  2021-06-28             2021-08-01  True            34.0\n",
       "222     80603  2021-06-14             2021-07-19  True            35.0\n",
       "144     46605  2021-06-10             2021-07-25  True            45.0\n",
       "230     87068  2021-06-15             2021-08-02  True            48.0\n",
       "\n",
       "[493 rows x 5 columns]"
      ]
     },
     "execution_count": 43,
     "metadata": {},
     "output_type": "execute_result"
    }
   ],
   "source": [
    "userdetails[userdetails['days_to_signup']>=0].sort_values(by='days_to_signup')"
   ]
  },
  {
   "cell_type": "markdown",
   "metadata": {},
   "source": [
    "#### Average no. of days before signing up"
   ]
  },
  {
   "cell_type": "code",
   "execution_count": 296,
   "metadata": {},
   "outputs": [
    {
     "data": {
      "text/plain": [
       "1.0"
      ]
     },
     "execution_count": 296,
     "metadata": {},
     "output_type": "execute_result"
    }
   ],
   "source": [
    "userdetails.loc[userdetails['days_to_signup']>=0, 'days_to_signup'].median()"
   ]
  },
  {
   "cell_type": "markdown",
   "metadata": {},
   "source": [
    "##### On average, users take 1 day before making their first purchase\n",
    "<br>"
   ]
  },
  {
   "cell_type": "code",
   "execution_count": 283,
   "metadata": {},
   "outputs": [
    {
     "data": {
      "image/png": "[encoded data removed]",
      "text/plain": [
       "<Figure size 864x360 with 1 Axes>"
      ]
     },
     "metadata": {},
     "output_type": "display_data"
    }
   ],
   "source": [
    "# plotting no. of days took to signup on a histogram\n",
    "days_to_signup = list(userdetails.loc[userdetails['days_to_signup']>=0, 'days_to_signup'])\n",
    "avg_days_to_signup = userdetails.loc[userdetails['days_to_signup']>=0, 'days_to_signup'].median()\n",
    "\n",
    "plt.figure(figsize=(12,5))\n",
    "plt.hist(days_to_signup,\n",
    "         bins=[x for x in range(0,51)],\n",
    "        edgecolor='#000000')\n",
    "plt.axvline(avg_days_to_signup, color='red', label='Days to Signup (Median)', linewidth=1)\n",
    "plt.xlabel('Days waited before Signup (bins)')\n",
    "plt.ylabel('Number of Users')\n",
    "plt.title('No. of days users waited before signing up', fontsize=14)\n",
    "plt.legend()\n",
    "plt.show()"
   ]
  },
  {
   "cell_type": "code",
   "execution_count": 295,
   "metadata": {},
   "outputs": [
    {
     "data": {
      "image/png": "[encoded data removed]",
      "text/plain": [
       "<Figure size 576x396 with 1 Axes>"
      ]
     },
     "metadata": {},
     "output_type": "display_data"
    }
   ],
   "source": [
    "# plotting the no. of days to signup to spot the outliers\n",
    "plt.boxplot(days_to_signup,\n",
    "           labels=['Days to Signup'],\n",
    "           showcaps=True,\n",
    "           showfliers=True,\n",
    "           showmeans=True)\n",
    "plt.show()"
   ]
  },
  {
   "cell_type": "markdown",
   "metadata": {},
   "source": [
    "#### Maximum and Minimum days users took to signup"
   ]
  },
  {
   "cell_type": "code",
   "execution_count": 45,
   "metadata": {},
   "outputs": [
    {
     "data": {
      "text/plain": [
       "(48.0, 0.0)"
      ]
     },
     "execution_count": 45,
     "metadata": {},
     "output_type": "execute_result"
    }
   ],
   "source": [
    "userdetails.loc[userdetails['days_to_signup']>=0, 'days_to_signup'].max(), userdetails.loc[userdetails['days_to_signup']>=0, 'days_to_signup'].min()"
   ]
  },
  {
   "cell_type": "markdown",
   "metadata": {},
   "source": [
    "##### The highest no. of days someone took to signup is, 48 days\n",
    "<br>"
   ]
  },
  {
   "cell_type": "markdown",
   "metadata": {},
   "source": [
    "#### Top 10 delays in days before users signup"
   ]
  },
  {
   "cell_type": "code",
   "execution_count": 48,
   "metadata": {},
   "outputs": [],
   "source": [
    "delays_in_signup = pd.DataFrame(userdetails['days_to_signup'].value_counts()) "
   ]
  },
  {
   "cell_type": "code",
   "execution_count": 49,
   "metadata": {},
   "outputs": [],
   "source": [
    "delays_in_signup.rename(columns={'days_to_signup':'count'}, inplace=True)"
   ]
  },
  {
   "cell_type": "code",
   "execution_count": 50,
   "metadata": {},
   "outputs": [],
   "source": [
    "delays_in_signup['days_to_signup'] = delays_in_signup.index"
   ]
  },
  {
   "cell_type": "code",
   "execution_count": 51,
   "metadata": {},
   "outputs": [],
   "source": [
    "delays_in_signup.index = [x for x in range(delays_in_signup.shape[0])]"
   ]
  },
  {
   "cell_type": "code",
   "execution_count": 52,
   "metadata": {},
   "outputs": [
    {
     "data": {
      "text/html": [
       "<div>\n",
       "<style scoped>\n",
       "    .dataframe tbody tr th:only-of-type {\n",
       "        vertical-align: middle;\n",
       "    }\n",
       "\n",
       "    .dataframe tbody tr th {\n",
       "        vertical-align: top;\n",
       "    }\n",
       "\n",
       "    .dataframe thead th {\n",
       "        text-align: right;\n",
       "    }\n",
       "</style>\n",
       "<table border=\"1\" class=\"dataframe\">\n",
       "  <thead>\n",
       "    <tr style=\"text-align: right;\">\n",
       "      <th></th>\n",
       "      <th>count</th>\n",
       "      <th>days_to_signup</th>\n",
       "    </tr>\n",
       "  </thead>\n",
       "  <tbody>\n",
       "    <tr>\n",
       "      <th>0</th>\n",
       "      <td>234</td>\n",
       "      <td>0.0</td>\n",
       "    </tr>\n",
       "    <tr>\n",
       "      <th>1</th>\n",
       "      <td>80</td>\n",
       "      <td>-1.0</td>\n",
       "    </tr>\n",
       "    <tr>\n",
       "      <th>2</th>\n",
       "      <td>54</td>\n",
       "      <td>1.0</td>\n",
       "    </tr>\n",
       "    <tr>\n",
       "      <th>3</th>\n",
       "      <td>34</td>\n",
       "      <td>3.0</td>\n",
       "    </tr>\n",
       "    <tr>\n",
       "      <th>4</th>\n",
       "      <td>30</td>\n",
       "      <td>2.0</td>\n",
       "    </tr>\n",
       "  </tbody>\n",
       "</table>\n",
       "</div>"
      ],
      "text/plain": [
       "   count  days_to_signup\n",
       "0    234             0.0\n",
       "1     80            -1.0\n",
       "2     54             1.0\n",
       "3     34             3.0\n",
       "4     30             2.0"
      ]
     },
     "execution_count": 52,
     "metadata": {},
     "output_type": "execute_result"
    }
   ],
   "source": [
    "delays_in_signup.head(5)"
   ]
  },
  {
   "cell_type": "code",
   "execution_count": 53,
   "metadata": {},
   "outputs": [],
   "source": [
    "delays_in_signup['pct_of_count'] = (delays_in_signup['count']/total_paid_users)*100"
   ]
  },
  {
   "cell_type": "code",
   "execution_count": 54,
   "metadata": {},
   "outputs": [
    {
     "data": {
      "text/html": [
       "<div>\n",
       "<style scoped>\n",
       "    .dataframe tbody tr th:only-of-type {\n",
       "        vertical-align: middle;\n",
       "    }\n",
       "\n",
       "    .dataframe tbody tr th {\n",
       "        vertical-align: top;\n",
       "    }\n",
       "\n",
       "    .dataframe thead th {\n",
       "        text-align: right;\n",
       "    }\n",
       "</style>\n",
       "<table border=\"1\" class=\"dataframe\">\n",
       "  <thead>\n",
       "    <tr style=\"text-align: right;\">\n",
       "      <th></th>\n",
       "      <th>count</th>\n",
       "      <th>days_to_signup</th>\n",
       "      <th>pct_of_count</th>\n",
       "    </tr>\n",
       "  </thead>\n",
       "  <tbody>\n",
       "    <tr>\n",
       "      <th>0</th>\n",
       "      <td>234</td>\n",
       "      <td>0.0</td>\n",
       "      <td>40.625000</td>\n",
       "    </tr>\n",
       "    <tr>\n",
       "      <th>1</th>\n",
       "      <td>80</td>\n",
       "      <td>-1.0</td>\n",
       "      <td>13.888889</td>\n",
       "    </tr>\n",
       "    <tr>\n",
       "      <th>2</th>\n",
       "      <td>54</td>\n",
       "      <td>1.0</td>\n",
       "      <td>9.375000</td>\n",
       "    </tr>\n",
       "    <tr>\n",
       "      <th>3</th>\n",
       "      <td>34</td>\n",
       "      <td>3.0</td>\n",
       "      <td>5.902778</td>\n",
       "    </tr>\n",
       "    <tr>\n",
       "      <th>4</th>\n",
       "      <td>30</td>\n",
       "      <td>2.0</td>\n",
       "      <td>5.208333</td>\n",
       "    </tr>\n",
       "    <tr>\n",
       "      <th>5</th>\n",
       "      <td>18</td>\n",
       "      <td>5.0</td>\n",
       "      <td>3.125000</td>\n",
       "    </tr>\n",
       "    <tr>\n",
       "      <th>6</th>\n",
       "      <td>17</td>\n",
       "      <td>4.0</td>\n",
       "      <td>2.951389</td>\n",
       "    </tr>\n",
       "    <tr>\n",
       "      <th>7</th>\n",
       "      <td>12</td>\n",
       "      <td>7.0</td>\n",
       "      <td>2.083333</td>\n",
       "    </tr>\n",
       "    <tr>\n",
       "      <th>8</th>\n",
       "      <td>10</td>\n",
       "      <td>8.0</td>\n",
       "      <td>1.736111</td>\n",
       "    </tr>\n",
       "    <tr>\n",
       "      <th>9</th>\n",
       "      <td>8</td>\n",
       "      <td>6.0</td>\n",
       "      <td>1.388889</td>\n",
       "    </tr>\n",
       "  </tbody>\n",
       "</table>\n",
       "</div>"
      ],
      "text/plain": [
       "   count  days_to_signup  pct_of_count\n",
       "0    234             0.0     40.625000\n",
       "1     80            -1.0     13.888889\n",
       "2     54             1.0      9.375000\n",
       "3     34             3.0      5.902778\n",
       "4     30             2.0      5.208333\n",
       "5     18             5.0      3.125000\n",
       "6     17             4.0      2.951389\n",
       "7     12             7.0      2.083333\n",
       "8     10             8.0      1.736111\n",
       "9      8             6.0      1.388889"
      ]
     },
     "execution_count": 54,
     "metadata": {},
     "output_type": "execute_result"
    }
   ],
   "source": [
    "delays_in_signup.head(10)"
   ]
  },
  {
   "cell_type": "markdown",
   "metadata": {},
   "source": [
    "#### Percentage of users who signed up within 3 days"
   ]
  },
  {
   "cell_type": "code",
   "execution_count": 300,
   "metadata": {},
   "outputs": [],
   "source": [
    "condition = [0.0,-1.0,1.0,3.0,2.0]\n",
    "filt = delays_in_signup['days_to_signup'].isin(condition)\n",
    "\n",
    "pct_signed_up_in_3_days = delays_in_signup.loc[filt, 'pct_of_count'].sum()"
   ]
  },
  {
   "cell_type": "code",
   "execution_count": 301,
   "metadata": {},
   "outputs": [
    {
     "data": {
      "text/plain": [
       "74.99999999999999"
      ]
     },
     "execution_count": 301,
     "metadata": {},
     "output_type": "execute_result"
    }
   ],
   "source": [
    "pct_signed_up_in_3_days"
   ]
  },
  {
   "cell_type": "markdown",
   "metadata": {},
   "source": [
    "#### Percentage of users who took more than 3 days to signup"
   ]
  },
  {
   "cell_type": "code",
   "execution_count": 304,
   "metadata": {},
   "outputs": [
    {
     "data": {
      "text/plain": [
       "25.000000000000014"
      ]
     },
     "execution_count": 304,
     "metadata": {},
     "output_type": "execute_result"
    }
   ],
   "source": [
    "pct_signed_up_more_than_3days = 100 - pct_signed_up_in_3_days\n",
    "pct_signed_up_more_than_3days"
   ]
  },
  {
   "cell_type": "markdown",
   "metadata": {},
   "source": [
    "##### 75% of the users signed up within 3 days and 25% of users waited for more than 3 days before signing up\n",
    "<br>"
   ]
  },
  {
   "cell_type": "markdown",
   "metadata": {},
   "source": [
    "#### Weekly and Monthly User Signups"
   ]
  },
  {
   "cell_type": "markdown",
   "metadata": {},
   "source": [
    "##### Weekly Signup"
   ]
  },
  {
   "cell_type": "code",
   "execution_count": 55,
   "metadata": {},
   "outputs": [],
   "source": [
    "resampled_userdetails_weekly = userdetails.set_index('date_of_first_purhcase')"
   ]
  },
  {
   "cell_type": "code",
   "execution_count": 56,
   "metadata": {},
   "outputs": [],
   "source": [
    "resampled_userdetails_weekly = resampled_userdetails_weekly.resample('W').agg({'paid':'sum'})"
   ]
  },
  {
   "cell_type": "code",
   "execution_count": 57,
   "metadata": {},
   "outputs": [],
   "source": [
    "resampled_userdetails_weekly.reset_index(inplace=True)"
   ]
  },
  {
   "cell_type": "code",
   "execution_count": 58,
   "metadata": {},
   "outputs": [],
   "source": [
    "resampled_userdetails_weekly['week_no'] = [x+1 for x in resampled_userdetails_weekly.index]\n",
    "resampled_userdetails_weekly.rename(columns={'paid':'count'}, inplace=True)"
   ]
  },
  {
   "cell_type": "code",
   "execution_count": 59,
   "metadata": {},
   "outputs": [
    {
     "data": {
      "text/html": [
       "<div>\n",
       "<style scoped>\n",
       "    .dataframe tbody tr th:only-of-type {\n",
       "        vertical-align: middle;\n",
       "    }\n",
       "\n",
       "    .dataframe tbody tr th {\n",
       "        vertical-align: top;\n",
       "    }\n",
       "\n",
       "    .dataframe thead th {\n",
       "        text-align: right;\n",
       "    }\n",
       "</style>\n",
       "<table border=\"1\" class=\"dataframe\">\n",
       "  <thead>\n",
       "    <tr style=\"text-align: right;\">\n",
       "      <th></th>\n",
       "      <th>date_of_first_purhcase</th>\n",
       "      <th>count</th>\n",
       "      <th>week_no</th>\n",
       "    </tr>\n",
       "  </thead>\n",
       "  <tbody>\n",
       "    <tr>\n",
       "      <th>0</th>\n",
       "      <td>2021-06-06</td>\n",
       "      <td>22.0</td>\n",
       "      <td>1</td>\n",
       "    </tr>\n",
       "    <tr>\n",
       "      <th>1</th>\n",
       "      <td>2021-06-13</td>\n",
       "      <td>72.0</td>\n",
       "      <td>2</td>\n",
       "    </tr>\n",
       "    <tr>\n",
       "      <th>2</th>\n",
       "      <td>2021-06-20</td>\n",
       "      <td>63.0</td>\n",
       "      <td>3</td>\n",
       "    </tr>\n",
       "    <tr>\n",
       "      <th>3</th>\n",
       "      <td>2021-06-27</td>\n",
       "      <td>66.0</td>\n",
       "      <td>4</td>\n",
       "    </tr>\n",
       "    <tr>\n",
       "      <th>4</th>\n",
       "      <td>2021-07-04</td>\n",
       "      <td>81.0</td>\n",
       "      <td>5</td>\n",
       "    </tr>\n",
       "    <tr>\n",
       "      <th>5</th>\n",
       "      <td>2021-07-11</td>\n",
       "      <td>67.0</td>\n",
       "      <td>6</td>\n",
       "    </tr>\n",
       "    <tr>\n",
       "      <th>6</th>\n",
       "      <td>2021-07-18</td>\n",
       "      <td>60.0</td>\n",
       "      <td>7</td>\n",
       "    </tr>\n",
       "    <tr>\n",
       "      <th>7</th>\n",
       "      <td>2021-07-25</td>\n",
       "      <td>67.0</td>\n",
       "      <td>8</td>\n",
       "    </tr>\n",
       "    <tr>\n",
       "      <th>8</th>\n",
       "      <td>2021-08-01</td>\n",
       "      <td>70.0</td>\n",
       "      <td>9</td>\n",
       "    </tr>\n",
       "    <tr>\n",
       "      <th>9</th>\n",
       "      <td>2021-08-08</td>\n",
       "      <td>8.0</td>\n",
       "      <td>10</td>\n",
       "    </tr>\n",
       "  </tbody>\n",
       "</table>\n",
       "</div>"
      ],
      "text/plain": [
       "  date_of_first_purhcase  count  week_no\n",
       "0             2021-06-06   22.0        1\n",
       "1             2021-06-13   72.0        2\n",
       "2             2021-06-20   63.0        3\n",
       "3             2021-06-27   66.0        4\n",
       "4             2021-07-04   81.0        5\n",
       "5             2021-07-11   67.0        6\n",
       "6             2021-07-18   60.0        7\n",
       "7             2021-07-25   67.0        8\n",
       "8             2021-08-01   70.0        9\n",
       "9             2021-08-08    8.0       10"
      ]
     },
     "execution_count": 59,
     "metadata": {},
     "output_type": "execute_result"
    }
   ],
   "source": [
    "resampled_userdetails_weekly"
   ]
  },
  {
   "cell_type": "code",
   "execution_count": 266,
   "metadata": {},
   "outputs": [
    {
     "data": {
      "image/png": "[encoded data removed]",
      "text/plain": [
       "<Figure size 576x396 with 1 Axes>"
      ]
     },
     "metadata": {},
     "output_type": "display_data"
    }
   ],
   "source": [
    "plt.plot(resampled_userdetails_weekly['date_of_first_purhcase'],\n",
    "        resampled_userdetails_weekly['count'],\n",
    "        color='#003f5c',\n",
    "        marker='o')\n",
    "plt.xticks(rotation=45)\n",
    "plt.xlabel('Weeks', fontweight='bold')\n",
    "plt.ylabel('Number of Signups', fontweight='bold')\n",
    "plt.title('Number of Signups - Weekly Basis', fontsize=13)\n",
    "plt.show()"
   ]
  },
  {
   "cell_type": "markdown",
   "metadata": {},
   "source": [
    "##### Monthly Sigups"
   ]
  },
  {
   "cell_type": "code",
   "execution_count": 61,
   "metadata": {},
   "outputs": [],
   "source": [
    "resampled_userdetails_monthly = userdetails.set_index('date_of_first_purhcase')"
   ]
  },
  {
   "cell_type": "code",
   "execution_count": 62,
   "metadata": {},
   "outputs": [],
   "source": [
    "resampled_userdetails_monthly = resampled_userdetails_monthly.resample('M').agg({'paid':'sum'})"
   ]
  },
  {
   "cell_type": "code",
   "execution_count": 63,
   "metadata": {},
   "outputs": [],
   "source": [
    "# resetting index to names of months\n",
    "resampled_userdetails_monthly.index = [x.strftime('%b') for x in resampled_userdetails_monthly.index]"
   ]
  },
  {
   "cell_type": "code",
   "execution_count": 64,
   "metadata": {},
   "outputs": [],
   "source": [
    "resampled_userdetails_monthly.reset_index(inplace=True)"
   ]
  },
  {
   "cell_type": "code",
   "execution_count": 65,
   "metadata": {},
   "outputs": [],
   "source": [
    "resampled_userdetails_monthly.rename(columns={'index':'month', 'paid':'count'}, inplace=True)\n"
   ]
  },
  {
   "cell_type": "code",
   "execution_count": 66,
   "metadata": {},
   "outputs": [
    {
     "data": {
      "text/html": [
       "<div>\n",
       "<style scoped>\n",
       "    .dataframe tbody tr th:only-of-type {\n",
       "        vertical-align: middle;\n",
       "    }\n",
       "\n",
       "    .dataframe tbody tr th {\n",
       "        vertical-align: top;\n",
       "    }\n",
       "\n",
       "    .dataframe thead th {\n",
       "        text-align: right;\n",
       "    }\n",
       "</style>\n",
       "<table border=\"1\" class=\"dataframe\">\n",
       "  <thead>\n",
       "    <tr style=\"text-align: right;\">\n",
       "      <th></th>\n",
       "      <th>month</th>\n",
       "      <th>count</th>\n",
       "    </tr>\n",
       "  </thead>\n",
       "  <tbody>\n",
       "    <tr>\n",
       "      <th>0</th>\n",
       "      <td>Jun</td>\n",
       "      <td>264.0</td>\n",
       "    </tr>\n",
       "    <tr>\n",
       "      <th>1</th>\n",
       "      <td>Jul</td>\n",
       "      <td>293.0</td>\n",
       "    </tr>\n",
       "    <tr>\n",
       "      <th>2</th>\n",
       "      <td>Aug</td>\n",
       "      <td>19.0</td>\n",
       "    </tr>\n",
       "  </tbody>\n",
       "</table>\n",
       "</div>"
      ],
      "text/plain": [
       "  month  count\n",
       "0   Jun  264.0\n",
       "1   Jul  293.0\n",
       "2   Aug   19.0"
      ]
     },
     "execution_count": 66,
     "metadata": {},
     "output_type": "execute_result"
    }
   ],
   "source": [
    "resampled_userdetails_monthly"
   ]
  },
  {
   "cell_type": "code",
   "execution_count": 67,
   "metadata": {},
   "outputs": [
    {
     "data": {
      "image/png": "[encoded data removed]",
      "text/plain": [
       "<Figure size 576x396 with 1 Axes>"
      ]
     },
     "metadata": {},
     "output_type": "display_data"
    }
   ],
   "source": [
    "ax = plt.subplot()\n",
    "ax.bar(resampled_userdetails_monthly['month'],\n",
    "       resampled_userdetails_monthly['count'], width=0.25)\n",
    "ax.set_xlabel('Months')\n",
    "ax.set_ylabel('No. of Signups')\n",
    "ax.set_title('Monthly Signups')\n",
    "\n",
    "\n",
    "for i, v in enumerate(resampled_userdetails_monthly['count']):\n",
    "    ax.text(i,v+3, str(v), ha='center', fontweight='bold', fontsize=10)\n",
    "    \n",
    "plt.show()"
   ]
  },
  {
   "cell_type": "code",
   "execution_count": null,
   "metadata": {},
   "outputs": [],
   "source": []
  },
  {
   "cell_type": "markdown",
   "metadata": {},
   "source": [
    "#### Total no. of courses"
   ]
  },
  {
   "cell_type": "code",
   "execution_count": 69,
   "metadata": {},
   "outputs": [
    {
     "data": {
      "text/plain": [
       "66"
      ]
     },
     "execution_count": 69,
     "metadata": {},
     "output_type": "execute_result"
    }
   ],
   "source": [
    "total_courses = len(subscription['track_slug'].unique())\n",
    "total_courses"
   ]
  },
  {
   "cell_type": "markdown",
   "metadata": {},
   "source": [
    "##### Most popular course"
   ]
  },
  {
   "cell_type": "code",
   "execution_count": 70,
   "metadata": {},
   "outputs": [],
   "source": [
    "courses_count = pd.DataFrame(subscription['track_slug'].value_counts())"
   ]
  },
  {
   "cell_type": "code",
   "execution_count": 71,
   "metadata": {},
   "outputs": [],
   "source": [
    "courses_count['course'] = courses_count.index"
   ]
  },
  {
   "cell_type": "code",
   "execution_count": 72,
   "metadata": {},
   "outputs": [],
   "source": [
    "courses_count.rename(columns={'track_slug':'count'}, inplace=True)\n",
    "courses_count.index = [x for x in range(courses_count.shape[0])]"
   ]
  },
  {
   "cell_type": "code",
   "execution_count": 306,
   "metadata": {},
   "outputs": [
    {
     "data": {
      "text/html": [
       "<div>\n",
       "<style scoped>\n",
       "    .dataframe tbody tr th:only-of-type {\n",
       "        vertical-align: middle;\n",
       "    }\n",
       "\n",
       "    .dataframe tbody tr th {\n",
       "        vertical-align: top;\n",
       "    }\n",
       "\n",
       "    .dataframe thead th {\n",
       "        text-align: right;\n",
       "    }\n",
       "</style>\n",
       "<table border=\"1\" class=\"dataframe\">\n",
       "  <thead>\n",
       "    <tr style=\"text-align: right;\">\n",
       "      <th></th>\n",
       "      <th>count</th>\n",
       "      <th>course</th>\n",
       "    </tr>\n",
       "  </thead>\n",
       "  <tbody>\n",
       "    <tr>\n",
       "      <th>0</th>\n",
       "      <td>284</td>\n",
       "      <td>Spoken_eng_hindi</td>\n",
       "    </tr>\n",
       "    <tr>\n",
       "      <th>1</th>\n",
       "      <td>213</td>\n",
       "      <td>spoken-english</td>\n",
       "    </tr>\n",
       "    <tr>\n",
       "      <th>2</th>\n",
       "      <td>163</td>\n",
       "      <td>kerala-psc</td>\n",
       "    </tr>\n",
       "    <tr>\n",
       "      <th>3</th>\n",
       "      <td>64</td>\n",
       "      <td>BANK-INS</td>\n",
       "    </tr>\n",
       "    <tr>\n",
       "      <th>4</th>\n",
       "      <td>57</td>\n",
       "      <td>ssc</td>\n",
       "    </tr>\n",
       "    <tr>\n",
       "      <th>...</th>\n",
       "      <td>...</td>\n",
       "      <td>...</td>\n",
       "    </tr>\n",
       "    <tr>\n",
       "      <th>61</th>\n",
       "      <td>1</td>\n",
       "      <td>SDQ</td>\n",
       "    </tr>\n",
       "    <tr>\n",
       "      <th>62</th>\n",
       "      <td>1</td>\n",
       "      <td>JEE</td>\n",
       "    </tr>\n",
       "    <tr>\n",
       "      <th>63</th>\n",
       "      <td>1</td>\n",
       "      <td>I_S_T</td>\n",
       "    </tr>\n",
       "    <tr>\n",
       "      <th>64</th>\n",
       "      <td>1</td>\n",
       "      <td>NEET</td>\n",
       "    </tr>\n",
       "    <tr>\n",
       "      <th>65</th>\n",
       "      <td>1</td>\n",
       "      <td>YourStory_Academy</td>\n",
       "    </tr>\n",
       "  </tbody>\n",
       "</table>\n",
       "<p>66 rows × 2 columns</p>\n",
       "</div>"
      ],
      "text/plain": [
       "    count             course\n",
       "0     284   Spoken_eng_hindi\n",
       "1     213     spoken-english\n",
       "2     163         kerala-psc\n",
       "3      64           BANK-INS\n",
       "4      57                ssc\n",
       "..    ...                ...\n",
       "61      1                SDQ\n",
       "62      1                JEE\n",
       "63      1              I_S_T\n",
       "64      1               NEET\n",
       "65      1  YourStory_Academy\n",
       "\n",
       "[66 rows x 2 columns]"
      ]
     },
     "execution_count": 306,
     "metadata": {},
     "output_type": "execute_result"
    }
   ],
   "source": [
    "courses_count"
   ]
  },
  {
   "cell_type": "code",
   "execution_count": 73,
   "metadata": {},
   "outputs": [],
   "source": [
    "courses = courses_count['course'].head(15)\n",
    "counts = courses_count['count'].head(15)"
   ]
  },
  {
   "cell_type": "code",
   "execution_count": null,
   "metadata": {},
   "outputs": [],
   "source": []
  },
  {
   "cell_type": "code",
   "execution_count": 74,
   "metadata": {},
   "outputs": [],
   "source": [
    "courses = list(courses)\n",
    "counts = list(counts)"
   ]
  },
  {
   "cell_type": "code",
   "execution_count": 75,
   "metadata": {},
   "outputs": [],
   "source": [
    "courses.reverse()\n",
    "counts.reverse()"
   ]
  },
  {
   "cell_type": "code",
   "execution_count": 76,
   "metadata": {},
   "outputs": [
    {
     "data": {
      "image/png": "[encoded data removed]",
      "text/plain": [
       "<Figure size 576x396 with 1 Axes>"
      ]
     },
     "metadata": {},
     "output_type": "display_data"
    }
   ],
   "source": [
    "#plt.subplots(figsize=(10,15))\n",
    "plt.barh(courses,\n",
    "         counts,\n",
    "        height=.5)\n",
    "plt.xticks(fontsize=9)\n",
    "plt.yticks(fontsize=9)\n",
    "plt.xlabel('No. of users')\n",
    "plt.ylabel('Courses')\n",
    "plt.title('No. of users per course')\n",
    "plt.show()"
   ]
  },
  {
   "cell_type": "markdown",
   "metadata": {},
   "source": [
    "##### There are a total of 66 courses.\n",
    "**Top 3 courses:**\n",
    "   - Spoken_eng_hindi\n",
    "   - spoken-english     \n",
    "   - kerala-psc\n",
    "<br>"
   ]
  },
  {
   "cell_type": "markdown",
   "metadata": {},
   "source": [
    "#### How many courses/subscription on avg. users took?"
   ]
  },
  {
   "cell_type": "code",
   "execution_count": 77,
   "metadata": {},
   "outputs": [],
   "source": [
    "courses_per_user = subscription.groupby('user_id').agg({'track_slug': lambda x: len(x.unique())})"
   ]
  },
  {
   "cell_type": "code",
   "execution_count": 78,
   "metadata": {},
   "outputs": [],
   "source": [
    "courses_per_user.rename(columns={'track_slug': 'course_count'}, inplace=True)\n",
    "courses_per_user['user_id'] = courses_per_user.index"
   ]
  },
  {
   "cell_type": "code",
   "execution_count": 79,
   "metadata": {},
   "outputs": [],
   "source": [
    "courses_per_user.index = [x for x in range(courses_per_user.shape[0])]"
   ]
  },
  {
   "cell_type": "code",
   "execution_count": 80,
   "metadata": {},
   "outputs": [
    {
     "data": {
      "text/html": [
       "<div>\n",
       "<style scoped>\n",
       "    .dataframe tbody tr th:only-of-type {\n",
       "        vertical-align: middle;\n",
       "    }\n",
       "\n",
       "    .dataframe tbody tr th {\n",
       "        vertical-align: top;\n",
       "    }\n",
       "\n",
       "    .dataframe thead th {\n",
       "        text-align: right;\n",
       "    }\n",
       "</style>\n",
       "<table border=\"1\" class=\"dataframe\">\n",
       "  <thead>\n",
       "    <tr style=\"text-align: right;\">\n",
       "      <th></th>\n",
       "      <th>course_count</th>\n",
       "      <th>user_id</th>\n",
       "    </tr>\n",
       "  </thead>\n",
       "  <tbody>\n",
       "    <tr>\n",
       "      <th>0</th>\n",
       "      <td>2</td>\n",
       "      <td>6</td>\n",
       "    </tr>\n",
       "    <tr>\n",
       "      <th>1</th>\n",
       "      <td>4</td>\n",
       "      <td>608</td>\n",
       "    </tr>\n",
       "    <tr>\n",
       "      <th>2</th>\n",
       "      <td>1</td>\n",
       "      <td>635</td>\n",
       "    </tr>\n",
       "    <tr>\n",
       "      <th>3</th>\n",
       "      <td>1</td>\n",
       "      <td>745</td>\n",
       "    </tr>\n",
       "    <tr>\n",
       "      <th>4</th>\n",
       "      <td>1</td>\n",
       "      <td>1506</td>\n",
       "    </tr>\n",
       "  </tbody>\n",
       "</table>\n",
       "</div>"
      ],
      "text/plain": [
       "   course_count  user_id\n",
       "0             2        6\n",
       "1             4      608\n",
       "2             1      635\n",
       "3             1      745\n",
       "4             1     1506"
      ]
     },
     "execution_count": 80,
     "metadata": {},
     "output_type": "execute_result"
    }
   ],
   "source": [
    "courses_per_user.head(5)"
   ]
  },
  {
   "cell_type": "code",
   "execution_count": 267,
   "metadata": {},
   "outputs": [
    {
     "data": {
      "text/plain": [
       "1.0"
      ]
     },
     "execution_count": 267,
     "metadata": {},
     "output_type": "execute_result"
    }
   ],
   "source": [
    "courses_per_user['course_count'].median()"
   ]
  },
  {
   "cell_type": "markdown",
   "metadata": {},
   "source": [
    "##### Average of 1 course was taken by users\n",
    "<br>"
   ]
  },
  {
   "cell_type": "markdown",
   "metadata": {},
   "source": [
    "#### Total No. of videos"
   ]
  },
  {
   "cell_type": "code",
   "execution_count": 82,
   "metadata": {},
   "outputs": [
    {
     "data": {
      "text/plain": [
       "4709"
      ]
     },
     "execution_count": 82,
     "metadata": {},
     "output_type": "execute_result"
    }
   ],
   "source": [
    "len(videos['video_id'].unique())"
   ]
  },
  {
   "cell_type": "markdown",
   "metadata": {},
   "source": [
    "#### Longest and Shortest Videos"
   ]
  },
  {
   "cell_type": "code",
   "execution_count": 83,
   "metadata": {},
   "outputs": [
    {
     "data": {
      "text/html": [
       "<div>\n",
       "<style scoped>\n",
       "    .dataframe tbody tr th:only-of-type {\n",
       "        vertical-align: middle;\n",
       "    }\n",
       "\n",
       "    .dataframe tbody tr th {\n",
       "        vertical-align: top;\n",
       "    }\n",
       "\n",
       "    .dataframe thead th {\n",
       "        text-align: right;\n",
       "    }\n",
       "</style>\n",
       "<table border=\"1\" class=\"dataframe\">\n",
       "  <thead>\n",
       "    <tr style=\"text-align: right;\">\n",
       "      <th></th>\n",
       "      <th>video_id</th>\n",
       "      <th>duration</th>\n",
       "    </tr>\n",
       "  </thead>\n",
       "  <tbody>\n",
       "    <tr>\n",
       "      <th>5810</th>\n",
       "      <td>25821</td>\n",
       "      <td>8514</td>\n",
       "    </tr>\n",
       "  </tbody>\n",
       "</table>\n",
       "</div>"
      ],
      "text/plain": [
       "      video_id  duration\n",
       "5810     25821      8514"
      ]
     },
     "execution_count": 83,
     "metadata": {},
     "output_type": "execute_result"
    }
   ],
   "source": [
    "# Longest video\n",
    "videos.loc[videos['duration'] == videos['duration'].max(), ['video_id','duration']]"
   ]
  },
  {
   "cell_type": "code",
   "execution_count": 84,
   "metadata": {},
   "outputs": [
    {
     "data": {
      "text/html": [
       "<div>\n",
       "<style scoped>\n",
       "    .dataframe tbody tr th:only-of-type {\n",
       "        vertical-align: middle;\n",
       "    }\n",
       "\n",
       "    .dataframe tbody tr th {\n",
       "        vertical-align: top;\n",
       "    }\n",
       "\n",
       "    .dataframe thead th {\n",
       "        text-align: right;\n",
       "    }\n",
       "</style>\n",
       "<table border=\"1\" class=\"dataframe\">\n",
       "  <thead>\n",
       "    <tr style=\"text-align: right;\">\n",
       "      <th></th>\n",
       "      <th>video_id</th>\n",
       "      <th>duration</th>\n",
       "    </tr>\n",
       "  </thead>\n",
       "  <tbody>\n",
       "    <tr>\n",
       "      <th>3119</th>\n",
       "      <td>2499</td>\n",
       "      <td>14</td>\n",
       "    </tr>\n",
       "    <tr>\n",
       "      <th>9907</th>\n",
       "      <td>2499</td>\n",
       "      <td>14</td>\n",
       "    </tr>\n",
       "  </tbody>\n",
       "</table>\n",
       "</div>"
      ],
      "text/plain": [
       "      video_id  duration\n",
       "3119      2499        14\n",
       "9907      2499        14"
      ]
     },
     "execution_count": 84,
     "metadata": {},
     "output_type": "execute_result"
    }
   ],
   "source": [
    "# Shortest video\n",
    "min_duration_above_zero = videos.loc[videos.duration>0].loc[:,'duration'].min()\n",
    "videos.loc[videos['duration'] == min_duration_above_zero, ['video_id','duration']]"
   ]
  },
  {
   "cell_type": "markdown",
   "metadata": {},
   "source": [
    "#### Count of  videos watched by each user"
   ]
  },
  {
   "cell_type": "code",
   "execution_count": 85,
   "metadata": {},
   "outputs": [],
   "source": [
    "videos_per_user = videos.groupby('user_id').agg({'video_id': lambda x: len(x.unique())})"
   ]
  },
  {
   "cell_type": "code",
   "execution_count": 86,
   "metadata": {},
   "outputs": [],
   "source": [
    "videos_per_user['user_id'] = videos_per_user.index"
   ]
  },
  {
   "cell_type": "code",
   "execution_count": 87,
   "metadata": {},
   "outputs": [],
   "source": [
    "videos_per_user.index = [x for x in range(videos_per_user.shape[0])]"
   ]
  },
  {
   "cell_type": "code",
   "execution_count": 88,
   "metadata": {},
   "outputs": [],
   "source": [
    "videos_per_user.rename(columns={'video_id': 'video_count'}, inplace=True)"
   ]
  },
  {
   "cell_type": "code",
   "execution_count": 89,
   "metadata": {},
   "outputs": [
    {
     "data": {
      "text/html": [
       "<div>\n",
       "<style scoped>\n",
       "    .dataframe tbody tr th:only-of-type {\n",
       "        vertical-align: middle;\n",
       "    }\n",
       "\n",
       "    .dataframe tbody tr th {\n",
       "        vertical-align: top;\n",
       "    }\n",
       "\n",
       "    .dataframe thead th {\n",
       "        text-align: right;\n",
       "    }\n",
       "</style>\n",
       "<table border=\"1\" class=\"dataframe\">\n",
       "  <thead>\n",
       "    <tr style=\"text-align: right;\">\n",
       "      <th></th>\n",
       "      <th>video_count</th>\n",
       "      <th>user_id</th>\n",
       "    </tr>\n",
       "  </thead>\n",
       "  <tbody>\n",
       "    <tr>\n",
       "      <th>70</th>\n",
       "      <td>322</td>\n",
       "      <td>28487</td>\n",
       "    </tr>\n",
       "    <tr>\n",
       "      <th>164</th>\n",
       "      <td>286</td>\n",
       "      <td>72616</td>\n",
       "    </tr>\n",
       "    <tr>\n",
       "      <th>136</th>\n",
       "      <td>179</td>\n",
       "      <td>56741</td>\n",
       "    </tr>\n",
       "    <tr>\n",
       "      <th>174</th>\n",
       "      <td>160</td>\n",
       "      <td>79799</td>\n",
       "    </tr>\n",
       "    <tr>\n",
       "      <th>151</th>\n",
       "      <td>155</td>\n",
       "      <td>62316</td>\n",
       "    </tr>\n",
       "    <tr>\n",
       "      <th>49</th>\n",
       "      <td>155</td>\n",
       "      <td>20603</td>\n",
       "    </tr>\n",
       "    <tr>\n",
       "      <th>459</th>\n",
       "      <td>150</td>\n",
       "      <td>229734</td>\n",
       "    </tr>\n",
       "    <tr>\n",
       "      <th>406</th>\n",
       "      <td>144</td>\n",
       "      <td>193673</td>\n",
       "    </tr>\n",
       "    <tr>\n",
       "      <th>161</th>\n",
       "      <td>140</td>\n",
       "      <td>69508</td>\n",
       "    </tr>\n",
       "    <tr>\n",
       "      <th>384</th>\n",
       "      <td>129</td>\n",
       "      <td>182587</td>\n",
       "    </tr>\n",
       "  </tbody>\n",
       "</table>\n",
       "</div>"
      ],
      "text/plain": [
       "     video_count  user_id\n",
       "70           322    28487\n",
       "164          286    72616\n",
       "136          179    56741\n",
       "174          160    79799\n",
       "151          155    62316\n",
       "49           155    20603\n",
       "459          150   229734\n",
       "406          144   193673\n",
       "161          140    69508\n",
       "384          129   182587"
      ]
     },
     "execution_count": 89,
     "metadata": {},
     "output_type": "execute_result"
    }
   ],
   "source": [
    "videos_per_user.sort_values(by='video_count',ascending=False).head(10)"
   ]
  },
  {
   "cell_type": "markdown",
   "metadata": {},
   "source": [
    "#### Average number of videos watched by each user\n"
   ]
  },
  {
   "cell_type": "code",
   "execution_count": 90,
   "metadata": {},
   "outputs": [
    {
     "data": {
      "text/plain": [
       "8.0"
      ]
     },
     "execution_count": 90,
     "metadata": {},
     "output_type": "execute_result"
    }
   ],
   "source": [
    "videos_per_user['video_count'].median()"
   ]
  },
  {
   "cell_type": "markdown",
   "metadata": {},
   "source": [
    "##### The average number of videos watched by each user is, 8\n",
    "<br>"
   ]
  },
  {
   "cell_type": "markdown",
   "metadata": {},
   "source": [
    "#### Finding most popular videos"
   ]
  },
  {
   "cell_type": "code",
   "execution_count": 91,
   "metadata": {},
   "outputs": [],
   "source": [
    "videos['watched_perc'] = np.nan"
   ]
  },
  {
   "cell_type": "code",
   "execution_count": 92,
   "metadata": {},
   "outputs": [],
   "source": [
    "# percentage of duration watched for each video\n",
    "videos.loc[videos['duration']>0, 'watched_perc'] = (videos['watched_duration']/videos['duration']) * 100"
   ]
  },
  {
   "cell_type": "code",
   "execution_count": 93,
   "metadata": {},
   "outputs": [
    {
     "data": {
      "text/html": [
       "<div>\n",
       "<style scoped>\n",
       "    .dataframe tbody tr th:only-of-type {\n",
       "        vertical-align: middle;\n",
       "    }\n",
       "\n",
       "    .dataframe tbody tr th {\n",
       "        vertical-align: top;\n",
       "    }\n",
       "\n",
       "    .dataframe thead th {\n",
       "        text-align: right;\n",
       "    }\n",
       "</style>\n",
       "<table border=\"1\" class=\"dataframe\">\n",
       "  <thead>\n",
       "    <tr style=\"text-align: right;\">\n",
       "      <th></th>\n",
       "      <th>user_id</th>\n",
       "      <th>watch_instance_id</th>\n",
       "      <th>watched_at</th>\n",
       "      <th>video_id</th>\n",
       "      <th>duration</th>\n",
       "      <th>watched_duration</th>\n",
       "      <th>watched_at_conv</th>\n",
       "      <th>watched_perc</th>\n",
       "    </tr>\n",
       "  </thead>\n",
       "  <tbody>\n",
       "    <tr>\n",
       "      <th>0</th>\n",
       "      <td>6</td>\n",
       "      <td>24552452</td>\n",
       "      <td>2021-06-12 18:13:40.347392+00:00</td>\n",
       "      <td>25261</td>\n",
       "      <td>934</td>\n",
       "      <td>2</td>\n",
       "      <td>2021-06-12 18:13:40</td>\n",
       "      <td>0.214133</td>\n",
       "    </tr>\n",
       "    <tr>\n",
       "      <th>1</th>\n",
       "      <td>6</td>\n",
       "      <td>24552735</td>\n",
       "      <td>2021-06-12 18:21:45.362998+00:00</td>\n",
       "      <td>25262</td>\n",
       "      <td>398</td>\n",
       "      <td>398</td>\n",
       "      <td>2021-06-12 18:21:45</td>\n",
       "      <td>100.000000</td>\n",
       "    </tr>\n",
       "    <tr>\n",
       "      <th>2</th>\n",
       "      <td>6</td>\n",
       "      <td>24011079</td>\n",
       "      <td>2021-06-04 18:27:01.296468+00:00</td>\n",
       "      <td>24920</td>\n",
       "      <td>1589</td>\n",
       "      <td>55</td>\n",
       "      <td>2021-06-04 18:27:01</td>\n",
       "      <td>3.461296</td>\n",
       "    </tr>\n",
       "  </tbody>\n",
       "</table>\n",
       "</div>"
      ],
      "text/plain": [
       "   user_id  watch_instance_id                        watched_at  video_id  \\\n",
       "0        6           24552452  2021-06-12 18:13:40.347392+00:00     25261   \n",
       "1        6           24552735  2021-06-12 18:21:45.362998+00:00     25262   \n",
       "2        6           24011079  2021-06-04 18:27:01.296468+00:00     24920   \n",
       "\n",
       "   duration  watched_duration     watched_at_conv  watched_perc  \n",
       "0       934                 2 2021-06-12 18:13:40      0.214133  \n",
       "1       398               398 2021-06-12 18:21:45    100.000000  \n",
       "2      1589                55 2021-06-04 18:27:01      3.461296  "
      ]
     },
     "execution_count": 93,
     "metadata": {},
     "output_type": "execute_result"
    }
   ],
   "source": [
    "videos.head(3)"
   ]
  },
  {
   "cell_type": "code",
   "execution_count": 94,
   "metadata": {},
   "outputs": [],
   "source": [
    "video_popularity = pd.DataFrame(videos.groupby('video_id').agg({'watched_perc':'median', 'video_id':'count'}))"
   ]
  },
  {
   "cell_type": "code",
   "execution_count": 95,
   "metadata": {},
   "outputs": [],
   "source": [
    "video_popularity.rename(columns={'video_id':'times_watched'}, inplace=True)"
   ]
  },
  {
   "cell_type": "code",
   "execution_count": 96,
   "metadata": {},
   "outputs": [],
   "source": [
    "video_popularity['video_id'] = video_popularity.index"
   ]
  },
  {
   "cell_type": "code",
   "execution_count": 97,
   "metadata": {},
   "outputs": [],
   "source": [
    "video_popularity.index = [x for x in range(video_popularity.shape[0])]"
   ]
  },
  {
   "cell_type": "code",
   "execution_count": null,
   "metadata": {},
   "outputs": [],
   "source": []
  },
  {
   "cell_type": "code",
   "execution_count": 98,
   "metadata": {},
   "outputs": [],
   "source": [
    "# quartiles\n",
    "times_watched_quartiles = video_popularity['times_watched'].quantile([0.25, 0.50, 0.75, 1])\n",
    "watched_perc_quartiles = video_popularity['watched_perc'].quantile([0.25, 0.50, 0.75, 1])"
   ]
  },
  {
   "cell_type": "code",
   "execution_count": 99,
   "metadata": {},
   "outputs": [
    {
     "data": {
      "text/plain": [
       "0.25      1.0\n",
       "0.50      1.0\n",
       "0.75      2.0\n",
       "1.00    195.0\n",
       "Name: times_watched, dtype: float64"
      ]
     },
     "execution_count": 99,
     "metadata": {},
     "output_type": "execute_result"
    }
   ],
   "source": [
    "times_watched_quartiles"
   ]
  },
  {
   "cell_type": "code",
   "execution_count": 100,
   "metadata": {},
   "outputs": [
    {
     "data": {
      "text/plain": [
       "0.25      0.619379\n",
       "0.50     13.775290\n",
       "0.75     86.523433\n",
       "1.00    120.322122\n",
       "Name: watched_perc, dtype: float64"
      ]
     },
     "execution_count": 100,
     "metadata": {},
     "output_type": "execute_result"
    }
   ],
   "source": [
    "watched_perc_quartiles"
   ]
  },
  {
   "cell_type": "code",
   "execution_count": 101,
   "metadata": {},
   "outputs": [],
   "source": [
    "# calculates score based on the quartiles\n",
    "def popularity_score(val, quartile_table):\n",
    "    score = 1\n",
    "    if val <= quartile_table[0.25]:\n",
    "        score = 1\n",
    "    elif val > quartile_table[0.25] and val <= quartile_table[0.50]:\n",
    "        score = 2\n",
    "    elif val > quartile_table[0.50] and val <= quartile_table[0.75]:\n",
    "        score = 3\n",
    "    elif val > quartile_table[0.75]:\n",
    "        score = 4\n",
    "    return score\n",
    "        "
   ]
  },
  {
   "cell_type": "markdown",
   "metadata": {},
   "source": [
    "#### Assigning scores to videos based on:\n",
    "    How many times the video was watched\n",
    "    Percentage of duration of the video watched"
   ]
  },
  {
   "cell_type": "code",
   "execution_count": 102,
   "metadata": {},
   "outputs": [],
   "source": [
    "video_popularity['watched_perc_score'] = video_popularity['watched_perc'].apply(lambda x: popularity_score(x, watched_perc_quartiles))"
   ]
  },
  {
   "cell_type": "code",
   "execution_count": 103,
   "metadata": {},
   "outputs": [],
   "source": [
    "video_popularity['times_watched_score'] = video_popularity['times_watched'].apply(lambda x: popularity_score(x, times_watched_quartiles))"
   ]
  },
  {
   "cell_type": "code",
   "execution_count": 104,
   "metadata": {},
   "outputs": [
    {
     "data": {
      "text/html": [
       "<div>\n",
       "<style scoped>\n",
       "    .dataframe tbody tr th:only-of-type {\n",
       "        vertical-align: middle;\n",
       "    }\n",
       "\n",
       "    .dataframe tbody tr th {\n",
       "        vertical-align: top;\n",
       "    }\n",
       "\n",
       "    .dataframe thead th {\n",
       "        text-align: right;\n",
       "    }\n",
       "</style>\n",
       "<table border=\"1\" class=\"dataframe\">\n",
       "  <thead>\n",
       "    <tr style=\"text-align: right;\">\n",
       "      <th></th>\n",
       "      <th>watched_perc</th>\n",
       "      <th>times_watched</th>\n",
       "      <th>video_id</th>\n",
       "      <th>watched_perc_score</th>\n",
       "      <th>times_watched_score</th>\n",
       "    </tr>\n",
       "  </thead>\n",
       "  <tbody>\n",
       "    <tr>\n",
       "      <th>0</th>\n",
       "      <td>4.813478</td>\n",
       "      <td>3</td>\n",
       "      <td>13</td>\n",
       "      <td>2</td>\n",
       "      <td>4</td>\n",
       "    </tr>\n",
       "    <tr>\n",
       "      <th>1</th>\n",
       "      <td>0.625000</td>\n",
       "      <td>1</td>\n",
       "      <td>15</td>\n",
       "      <td>2</td>\n",
       "      <td>1</td>\n",
       "    </tr>\n",
       "    <tr>\n",
       "      <th>2</th>\n",
       "      <td>100.000000</td>\n",
       "      <td>14</td>\n",
       "      <td>241</td>\n",
       "      <td>4</td>\n",
       "      <td>4</td>\n",
       "    </tr>\n",
       "    <tr>\n",
       "      <th>3</th>\n",
       "      <td>8.137432</td>\n",
       "      <td>11</td>\n",
       "      <td>242</td>\n",
       "      <td>2</td>\n",
       "      <td>4</td>\n",
       "    </tr>\n",
       "    <tr>\n",
       "      <th>4</th>\n",
       "      <td>14.144737</td>\n",
       "      <td>3</td>\n",
       "      <td>243</td>\n",
       "      <td>3</td>\n",
       "      <td>4</td>\n",
       "    </tr>\n",
       "    <tr>\n",
       "      <th>5</th>\n",
       "      <td>0.297177</td>\n",
       "      <td>1</td>\n",
       "      <td>244</td>\n",
       "      <td>1</td>\n",
       "      <td>1</td>\n",
       "    </tr>\n",
       "    <tr>\n",
       "      <th>6</th>\n",
       "      <td>1.819505</td>\n",
       "      <td>10</td>\n",
       "      <td>248</td>\n",
       "      <td>2</td>\n",
       "      <td>4</td>\n",
       "    </tr>\n",
       "    <tr>\n",
       "      <th>7</th>\n",
       "      <td>6.918239</td>\n",
       "      <td>1</td>\n",
       "      <td>249</td>\n",
       "      <td>2</td>\n",
       "      <td>1</td>\n",
       "    </tr>\n",
       "    <tr>\n",
       "      <th>8</th>\n",
       "      <td>20.571429</td>\n",
       "      <td>1</td>\n",
       "      <td>250</td>\n",
       "      <td>3</td>\n",
       "      <td>1</td>\n",
       "    </tr>\n",
       "    <tr>\n",
       "      <th>9</th>\n",
       "      <td>3.846154</td>\n",
       "      <td>3</td>\n",
       "      <td>275</td>\n",
       "      <td>2</td>\n",
       "      <td>4</td>\n",
       "    </tr>\n",
       "  </tbody>\n",
       "</table>\n",
       "</div>"
      ],
      "text/plain": [
       "   watched_perc  times_watched  video_id  watched_perc_score  \\\n",
       "0      4.813478              3        13                   2   \n",
       "1      0.625000              1        15                   2   \n",
       "2    100.000000             14       241                   4   \n",
       "3      8.137432             11       242                   2   \n",
       "4     14.144737              3       243                   3   \n",
       "5      0.297177              1       244                   1   \n",
       "6      1.819505             10       248                   2   \n",
       "7      6.918239              1       249                   2   \n",
       "8     20.571429              1       250                   3   \n",
       "9      3.846154              3       275                   2   \n",
       "\n",
       "   times_watched_score  \n",
       "0                    4  \n",
       "1                    1  \n",
       "2                    4  \n",
       "3                    4  \n",
       "4                    4  \n",
       "5                    1  \n",
       "6                    4  \n",
       "7                    1  \n",
       "8                    1  \n",
       "9                    4  "
      ]
     },
     "execution_count": 104,
     "metadata": {},
     "output_type": "execute_result"
    }
   ],
   "source": [
    "video_popularity.head(10)"
   ]
  },
  {
   "cell_type": "markdown",
   "metadata": {},
   "source": [
    "#### Most popular videos"
   ]
  },
  {
   "cell_type": "code",
   "execution_count": 105,
   "metadata": {},
   "outputs": [],
   "source": [
    "# TOP 10 popular videos\n",
    "\n",
    "filt = (video_popularity['watched_perc_score'] ==4) & (video_popularity['times_watched_score']==4)\n",
    "popular_videos = video_popularity[filt].sort_values(by='times_watched', ascending=False)"
   ]
  },
  {
   "cell_type": "code",
   "execution_count": 106,
   "metadata": {},
   "outputs": [
    {
     "data": {
      "text/html": [
       "<div>\n",
       "<style scoped>\n",
       "    .dataframe tbody tr th:only-of-type {\n",
       "        vertical-align: middle;\n",
       "    }\n",
       "\n",
       "    .dataframe tbody tr th {\n",
       "        vertical-align: top;\n",
       "    }\n",
       "\n",
       "    .dataframe thead th {\n",
       "        text-align: right;\n",
       "    }\n",
       "</style>\n",
       "<table border=\"1\" class=\"dataframe\">\n",
       "  <thead>\n",
       "    <tr style=\"text-align: right;\">\n",
       "      <th></th>\n",
       "      <th>watched_perc</th>\n",
       "      <th>times_watched</th>\n",
       "      <th>video_id</th>\n",
       "      <th>watched_perc_score</th>\n",
       "      <th>times_watched_score</th>\n",
       "    </tr>\n",
       "  </thead>\n",
       "  <tbody>\n",
       "    <tr>\n",
       "      <th>402</th>\n",
       "      <td>100.000000</td>\n",
       "      <td>189</td>\n",
       "      <td>5861</td>\n",
       "      <td>4</td>\n",
       "      <td>4</td>\n",
       "    </tr>\n",
       "    <tr>\n",
       "      <th>400</th>\n",
       "      <td>100.000000</td>\n",
       "      <td>184</td>\n",
       "      <td>5859</td>\n",
       "      <td>4</td>\n",
       "      <td>4</td>\n",
       "    </tr>\n",
       "    <tr>\n",
       "      <th>401</th>\n",
       "      <td>100.000000</td>\n",
       "      <td>180</td>\n",
       "      <td>5860</td>\n",
       "      <td>4</td>\n",
       "      <td>4</td>\n",
       "    </tr>\n",
       "    <tr>\n",
       "      <th>403</th>\n",
       "      <td>100.000000</td>\n",
       "      <td>162</td>\n",
       "      <td>5862</td>\n",
       "      <td>4</td>\n",
       "      <td>4</td>\n",
       "    </tr>\n",
       "    <tr>\n",
       "      <th>404</th>\n",
       "      <td>100.000000</td>\n",
       "      <td>148</td>\n",
       "      <td>5863</td>\n",
       "      <td>4</td>\n",
       "      <td>4</td>\n",
       "    </tr>\n",
       "    <tr>\n",
       "      <th>405</th>\n",
       "      <td>100.000000</td>\n",
       "      <td>138</td>\n",
       "      <td>5864</td>\n",
       "      <td>4</td>\n",
       "      <td>4</td>\n",
       "    </tr>\n",
       "    <tr>\n",
       "      <th>406</th>\n",
       "      <td>100.000000</td>\n",
       "      <td>123</td>\n",
       "      <td>5865</td>\n",
       "      <td>4</td>\n",
       "      <td>4</td>\n",
       "    </tr>\n",
       "    <tr>\n",
       "      <th>2394</th>\n",
       "      <td>90.310078</td>\n",
       "      <td>120</td>\n",
       "      <td>31593</td>\n",
       "      <td>4</td>\n",
       "      <td>4</td>\n",
       "    </tr>\n",
       "    <tr>\n",
       "      <th>407</th>\n",
       "      <td>100.000000</td>\n",
       "      <td>113</td>\n",
       "      <td>5866</td>\n",
       "      <td>4</td>\n",
       "      <td>4</td>\n",
       "    </tr>\n",
       "    <tr>\n",
       "      <th>408</th>\n",
       "      <td>99.710145</td>\n",
       "      <td>100</td>\n",
       "      <td>5867</td>\n",
       "      <td>4</td>\n",
       "      <td>4</td>\n",
       "    </tr>\n",
       "  </tbody>\n",
       "</table>\n",
       "</div>"
      ],
      "text/plain": [
       "      watched_perc  times_watched  video_id  watched_perc_score  \\\n",
       "402     100.000000            189      5861                   4   \n",
       "400     100.000000            184      5859                   4   \n",
       "401     100.000000            180      5860                   4   \n",
       "403     100.000000            162      5862                   4   \n",
       "404     100.000000            148      5863                   4   \n",
       "405     100.000000            138      5864                   4   \n",
       "406     100.000000            123      5865                   4   \n",
       "2394     90.310078            120     31593                   4   \n",
       "407     100.000000            113      5866                   4   \n",
       "408      99.710145            100      5867                   4   \n",
       "\n",
       "      times_watched_score  \n",
       "402                     4  \n",
       "400                     4  \n",
       "401                     4  \n",
       "403                     4  \n",
       "404                     4  \n",
       "405                     4  \n",
       "406                     4  \n",
       "2394                    4  \n",
       "407                     4  \n",
       "408                     4  "
      ]
     },
     "execution_count": 106,
     "metadata": {},
     "output_type": "execute_result"
    }
   ],
   "source": [
    "popular_videos.head(10)"
   ]
  },
  {
   "cell_type": "markdown",
   "metadata": {},
   "source": [
    "<br>"
   ]
  },
  {
   "cell_type": "markdown",
   "metadata": {},
   "source": [
    "#### Correlation between Length of the videos and Watch percentage"
   ]
  },
  {
   "cell_type": "code",
   "execution_count": 107,
   "metadata": {},
   "outputs": [],
   "source": [
    "video_length_vs_watch_perc = videos.loc[videos['duration']>0, ['duration', 'watched_perc']]"
   ]
  },
  {
   "cell_type": "code",
   "execution_count": 108,
   "metadata": {},
   "outputs": [
    {
     "data": {
      "text/html": [
       "<div>\n",
       "<style scoped>\n",
       "    .dataframe tbody tr th:only-of-type {\n",
       "        vertical-align: middle;\n",
       "    }\n",
       "\n",
       "    .dataframe tbody tr th {\n",
       "        vertical-align: top;\n",
       "    }\n",
       "\n",
       "    .dataframe thead th {\n",
       "        text-align: right;\n",
       "    }\n",
       "</style>\n",
       "<table border=\"1\" class=\"dataframe\">\n",
       "  <thead>\n",
       "    <tr style=\"text-align: right;\">\n",
       "      <th></th>\n",
       "      <th>duration</th>\n",
       "      <th>watched_perc</th>\n",
       "    </tr>\n",
       "  </thead>\n",
       "  <tbody>\n",
       "    <tr>\n",
       "      <th>duration</th>\n",
       "      <td>1.000000</td>\n",
       "      <td>-0.213329</td>\n",
       "    </tr>\n",
       "    <tr>\n",
       "      <th>watched_perc</th>\n",
       "      <td>-0.213329</td>\n",
       "      <td>1.000000</td>\n",
       "    </tr>\n",
       "  </tbody>\n",
       "</table>\n",
       "</div>"
      ],
      "text/plain": [
       "              duration  watched_perc\n",
       "duration      1.000000     -0.213329\n",
       "watched_perc -0.213329      1.000000"
      ]
     },
     "execution_count": 108,
     "metadata": {},
     "output_type": "execute_result"
    }
   ],
   "source": [
    "video_length_vs_watch_perc.corr()"
   ]
  },
  {
   "cell_type": "code",
   "execution_count": 109,
   "metadata": {},
   "outputs": [],
   "source": [
    "vlength = list(video_length_vs_watch_perc['duration'])\n",
    "wperc = list(video_length_vs_watch_perc['watched_perc'])"
   ]
  },
  {
   "cell_type": "code",
   "execution_count": 110,
   "metadata": {},
   "outputs": [
    {
     "data": {
      "image/png": "[encoded data removed]",
      "text/plain": [
       "<Figure size 576x396 with 1 Axes>"
      ]
     },
     "metadata": {},
     "output_type": "display_data"
    }
   ],
   "source": [
    "plt.scatter(vlength,\n",
    "           wperc,\n",
    "           alpha=0.75,\n",
    "           edgecolor='black',\n",
    "           linewidth=0.25)\n",
    "plt.tight_layout()\n",
    "plt.show()"
   ]
  },
  {
   "cell_type": "markdown",
   "metadata": {},
   "source": [
    "##### We can observe a mild negative correlation between the video length and watch percentage"
   ]
  },
  {
   "cell_type": "markdown",
   "metadata": {},
   "source": [
    "#### Average length of videos with 100% watch percentage"
   ]
  },
  {
   "cell_type": "code",
   "execution_count": 111,
   "metadata": {},
   "outputs": [
    {
     "data": {
      "text/plain": [
       "800.0"
      ]
     },
     "execution_count": 111,
     "metadata": {},
     "output_type": "execute_result"
    }
   ],
   "source": [
    "videos.loc[videos['watched_perc'] == 100,'duration'].median()"
   ]
  },
  {
   "cell_type": "markdown",
   "metadata": {},
   "source": [
    "##### The average length of video which was watched completely is, 800"
   ]
  },
  {
   "cell_type": "markdown",
   "metadata": {},
   "source": [
    "<br>"
   ]
  },
  {
   "cell_type": "markdown",
   "metadata": {},
   "source": [
    "#### Average length of 100 most popular videos"
   ]
  },
  {
   "cell_type": "code",
   "execution_count": 112,
   "metadata": {},
   "outputs": [
    {
     "data": {
      "text/plain": [
       "715.0"
      ]
     },
     "execution_count": 112,
     "metadata": {},
     "output_type": "execute_result"
    }
   ],
   "source": [
    "\n",
    "video_id_for_top50_popular_videos = list(popular_videos['video_id'].head(100))\n",
    "\n",
    "videos.loc[videos['video_id'].isin(video_id_for_top50_popular_videos),'duration'].median()\n"
   ]
  },
  {
   "cell_type": "markdown",
   "metadata": {},
   "source": [
    "##### The average length of most popular videos is, 715"
   ]
  },
  {
   "cell_type": "markdown",
   "metadata": {},
   "source": [
    "<br>"
   ]
  },
  {
   "cell_type": "markdown",
   "metadata": {},
   "source": [
    "#### Percentage of CREATED, PAUSED, IN PROGRESS, COMPLETED quizzes by each user"
   ]
  },
  {
   "cell_type": "code",
   "execution_count": 113,
   "metadata": {},
   "outputs": [],
   "source": [
    "quiz_status_count = pd.DataFrame(quiz['status'].value_counts())"
   ]
  },
  {
   "cell_type": "code",
   "execution_count": 114,
   "metadata": {},
   "outputs": [],
   "source": [
    "total_quiz_attempts = quiz['status'].shape[0]"
   ]
  },
  {
   "cell_type": "code",
   "execution_count": 115,
   "metadata": {},
   "outputs": [],
   "source": [
    "quiz_status_count.rename(columns={'status':'count'}, inplace=True)"
   ]
  },
  {
   "cell_type": "code",
   "execution_count": 116,
   "metadata": {},
   "outputs": [],
   "source": [
    "quiz_status_count['status'] = quiz_status_count.index"
   ]
  },
  {
   "cell_type": "code",
   "execution_count": 117,
   "metadata": {},
   "outputs": [],
   "source": [
    "quiz_status_count.index = [x for x in range(quiz_status_count.shape[0])]"
   ]
  },
  {
   "cell_type": "code",
   "execution_count": 118,
   "metadata": {},
   "outputs": [],
   "source": [
    "quiz_status_count['pct'] = (quiz_status_count['count']/total_quiz_attempts) * 100"
   ]
  },
  {
   "cell_type": "code",
   "execution_count": 119,
   "metadata": {},
   "outputs": [
    {
     "data": {
      "text/html": [
       "<div>\n",
       "<style scoped>\n",
       "    .dataframe tbody tr th:only-of-type {\n",
       "        vertical-align: middle;\n",
       "    }\n",
       "\n",
       "    .dataframe tbody tr th {\n",
       "        vertical-align: top;\n",
       "    }\n",
       "\n",
       "    .dataframe thead th {\n",
       "        text-align: right;\n",
       "    }\n",
       "</style>\n",
       "<table border=\"1\" class=\"dataframe\">\n",
       "  <thead>\n",
       "    <tr style=\"text-align: right;\">\n",
       "      <th></th>\n",
       "      <th>count</th>\n",
       "      <th>status</th>\n",
       "      <th>pct</th>\n",
       "    </tr>\n",
       "  </thead>\n",
       "  <tbody>\n",
       "    <tr>\n",
       "      <th>0</th>\n",
       "      <td>13833</td>\n",
       "      <td>COMPLETE</td>\n",
       "      <td>64.582847</td>\n",
       "    </tr>\n",
       "    <tr>\n",
       "      <th>1</th>\n",
       "      <td>6950</td>\n",
       "      <td>CREATE</td>\n",
       "      <td>32.447827</td>\n",
       "    </tr>\n",
       "    <tr>\n",
       "      <th>2</th>\n",
       "      <td>489</td>\n",
       "      <td>PAUSE</td>\n",
       "      <td>2.283020</td>\n",
       "    </tr>\n",
       "    <tr>\n",
       "      <th>3</th>\n",
       "      <td>147</td>\n",
       "      <td>PROGRESS</td>\n",
       "      <td>0.686307</td>\n",
       "    </tr>\n",
       "  </tbody>\n",
       "</table>\n",
       "</div>"
      ],
      "text/plain": [
       "   count    status        pct\n",
       "0  13833  COMPLETE  64.582847\n",
       "1   6950    CREATE  32.447827\n",
       "2    489     PAUSE   2.283020\n",
       "3    147  PROGRESS   0.686307"
      ]
     },
     "execution_count": 119,
     "metadata": {},
     "output_type": "execute_result"
    }
   ],
   "source": [
    "quiz_status_count"
   ]
  },
  {
   "cell_type": "code",
   "execution_count": 321,
   "metadata": {},
   "outputs": [
    {
     "data": {
      "image/png": "[encoded data removed]",
      "text/plain": [
       "<Figure size 576x396 with 1 Axes>"
      ]
     },
     "metadata": {},
     "output_type": "display_data"
    }
   ],
   "source": [
    "plt.pie(quiz_status_count['count'],\n",
    "        colors=['#9BBFE0','#E8A09A','#FBE29F','#28A0A1'],\n",
    "       autopct='%1.1f%%',\n",
    "     wedgeprops={'edgecolor':'black'},\n",
    "       rotatelabels=True,\n",
    "        textprops={'fontsize':12, 'fontweight':'bold'},\n",
    "       explode = [0.05,0,0,0],\n",
    "       startangle=30)\n",
    "plt.legend(['Completed','Created','Paused','In Progress'], loc=(-0.25,0.15), fontsize=11)\n",
    "plt.title('Status percentage of quizzes', y=0, fontsize=14)\n",
    "plt.show()"
   ]
  },
  {
   "cell_type": "markdown",
   "metadata": {},
   "source": [
    "##### When a quiz is taken, there is a 64.58% chance that the quiz will be completed"
   ]
  },
  {
   "cell_type": "markdown",
   "metadata": {},
   "source": [
    "<br>"
   ]
  },
  {
   "cell_type": "markdown",
   "metadata": {},
   "source": [
    "#### No. of quizzes completed by each user"
   ]
  },
  {
   "cell_type": "code",
   "execution_count": 121,
   "metadata": {},
   "outputs": [],
   "source": [
    "quiz_completed_per_user = quiz.loc[quiz['status']=='COMPLETE'].groupby('user_id').agg({'status':lambda x: x.shape[0]})"
   ]
  },
  {
   "cell_type": "code",
   "execution_count": 122,
   "metadata": {},
   "outputs": [
    {
     "data": {
      "text/html": [
       "<div>\n",
       "<style scoped>\n",
       "    .dataframe tbody tr th:only-of-type {\n",
       "        vertical-align: middle;\n",
       "    }\n",
       "\n",
       "    .dataframe tbody tr th {\n",
       "        vertical-align: top;\n",
       "    }\n",
       "\n",
       "    .dataframe thead th {\n",
       "        text-align: right;\n",
       "    }\n",
       "</style>\n",
       "<table border=\"1\" class=\"dataframe\">\n",
       "  <thead>\n",
       "    <tr style=\"text-align: right;\">\n",
       "      <th></th>\n",
       "      <th>status</th>\n",
       "    </tr>\n",
       "    <tr>\n",
       "      <th>user_id</th>\n",
       "      <th></th>\n",
       "    </tr>\n",
       "  </thead>\n",
       "  <tbody>\n",
       "    <tr>\n",
       "      <th>6</th>\n",
       "      <td>99</td>\n",
       "    </tr>\n",
       "    <tr>\n",
       "      <th>1642</th>\n",
       "      <td>8</td>\n",
       "    </tr>\n",
       "    <tr>\n",
       "      <th>1796</th>\n",
       "      <td>1</td>\n",
       "    </tr>\n",
       "  </tbody>\n",
       "</table>\n",
       "</div>"
      ],
      "text/plain": [
       "         status\n",
       "user_id        \n",
       "6            99\n",
       "1642          8\n",
       "1796          1"
      ]
     },
     "execution_count": 122,
     "metadata": {},
     "output_type": "execute_result"
    }
   ],
   "source": [
    "quiz_completed_per_user.head(3)"
   ]
  },
  {
   "cell_type": "code",
   "execution_count": 123,
   "metadata": {},
   "outputs": [],
   "source": [
    "quiz_completed_per_user.rename(columns={'status':'count'}, inplace=True)\n",
    "quiz_completed_per_user['user_id'] = quiz_completed_per_user.index\n",
    "quiz_completed_per_user.index = [x for x in range(quiz_completed_per_user.shape[0])]"
   ]
  },
  {
   "cell_type": "code",
   "execution_count": 124,
   "metadata": {},
   "outputs": [
    {
     "data": {
      "text/html": [
       "<div>\n",
       "<style scoped>\n",
       "    .dataframe tbody tr th:only-of-type {\n",
       "        vertical-align: middle;\n",
       "    }\n",
       "\n",
       "    .dataframe tbody tr th {\n",
       "        vertical-align: top;\n",
       "    }\n",
       "\n",
       "    .dataframe thead th {\n",
       "        text-align: right;\n",
       "    }\n",
       "</style>\n",
       "<table border=\"1\" class=\"dataframe\">\n",
       "  <thead>\n",
       "    <tr style=\"text-align: right;\">\n",
       "      <th></th>\n",
       "      <th>count</th>\n",
       "      <th>user_id</th>\n",
       "    </tr>\n",
       "  </thead>\n",
       "  <tbody>\n",
       "    <tr>\n",
       "      <th>275</th>\n",
       "      <td>2698</td>\n",
       "      <td>175451</td>\n",
       "    </tr>\n",
       "    <tr>\n",
       "      <th>483</th>\n",
       "      <td>368</td>\n",
       "      <td>362281</td>\n",
       "    </tr>\n",
       "    <tr>\n",
       "      <th>207</th>\n",
       "      <td>368</td>\n",
       "      <td>136944</td>\n",
       "    </tr>\n",
       "    <tr>\n",
       "      <th>86</th>\n",
       "      <td>356</td>\n",
       "      <td>43158</td>\n",
       "    </tr>\n",
       "    <tr>\n",
       "      <th>165</th>\n",
       "      <td>293</td>\n",
       "      <td>103374</td>\n",
       "    </tr>\n",
       "    <tr>\n",
       "      <th>65</th>\n",
       "      <td>235</td>\n",
       "      <td>31373</td>\n",
       "    </tr>\n",
       "    <tr>\n",
       "      <th>55</th>\n",
       "      <td>235</td>\n",
       "      <td>28487</td>\n",
       "    </tr>\n",
       "    <tr>\n",
       "      <th>374</th>\n",
       "      <td>235</td>\n",
       "      <td>259160</td>\n",
       "    </tr>\n",
       "    <tr>\n",
       "      <th>84</th>\n",
       "      <td>224</td>\n",
       "      <td>41706</td>\n",
       "    </tr>\n",
       "    <tr>\n",
       "      <th>150</th>\n",
       "      <td>163</td>\n",
       "      <td>91932</td>\n",
       "    </tr>\n",
       "  </tbody>\n",
       "</table>\n",
       "</div>"
      ],
      "text/plain": [
       "     count  user_id\n",
       "275   2698   175451\n",
       "483    368   362281\n",
       "207    368   136944\n",
       "86     356    43158\n",
       "165    293   103374\n",
       "65     235    31373\n",
       "55     235    28487\n",
       "374    235   259160\n",
       "84     224    41706\n",
       "150    163    91932"
      ]
     },
     "execution_count": 124,
     "metadata": {},
     "output_type": "execute_result"
    }
   ],
   "source": [
    "quiz_completed_per_user.sort_values(by='count', ascending=False).head(10)"
   ]
  },
  {
   "cell_type": "markdown",
   "metadata": {},
   "source": [
    "#### Average no. of quizzes completed per user"
   ]
  },
  {
   "cell_type": "code",
   "execution_count": 312,
   "metadata": {},
   "outputs": [
    {
     "data": {
      "text/plain": [
       "8.0"
      ]
     },
     "execution_count": 312,
     "metadata": {},
     "output_type": "execute_result"
    }
   ],
   "source": [
    "quiz_completed_per_user['count'].median()"
   ]
  },
  {
   "cell_type": "markdown",
   "metadata": {},
   "source": [
    "##### On average, each user completes 8 quizzes"
   ]
  },
  {
   "cell_type": "markdown",
   "metadata": {},
   "source": [
    "<br>"
   ]
  },
  {
   "cell_type": "code",
   "execution_count": 125,
   "metadata": {},
   "outputs": [
    {
     "data": {
      "text/html": [
       "<div>\n",
       "<style scoped>\n",
       "    .dataframe tbody tr th:only-of-type {\n",
       "        vertical-align: middle;\n",
       "    }\n",
       "\n",
       "    .dataframe tbody tr th {\n",
       "        vertical-align: top;\n",
       "    }\n",
       "\n",
       "    .dataframe thead th {\n",
       "        text-align: right;\n",
       "    }\n",
       "</style>\n",
       "<table border=\"1\" class=\"dataframe\">\n",
       "  <thead>\n",
       "    <tr style=\"text-align: right;\">\n",
       "      <th></th>\n",
       "      <th>user_id</th>\n",
       "      <th>activity_id</th>\n",
       "      <th>start_time</th>\n",
       "      <th>start_time_conv</th>\n",
       "    </tr>\n",
       "  </thead>\n",
       "  <tbody>\n",
       "    <tr>\n",
       "      <th>0</th>\n",
       "      <td>1642</td>\n",
       "      <td>4197126</td>\n",
       "      <td>2021-06-04 16:51:51.454473+00:00</td>\n",
       "      <td>2021-06-04 16:51:51</td>\n",
       "    </tr>\n",
       "    <tr>\n",
       "      <th>1</th>\n",
       "      <td>1642</td>\n",
       "      <td>4197075</td>\n",
       "      <td>2021-06-04 16:43:10.115201+00:00</td>\n",
       "      <td>2021-06-04 16:43:10</td>\n",
       "    </tr>\n",
       "    <tr>\n",
       "      <th>2</th>\n",
       "      <td>1642</td>\n",
       "      <td>4197074</td>\n",
       "      <td>2021-06-04 16:43:10.082261+00:00</td>\n",
       "      <td>2021-06-04 16:43:10</td>\n",
       "    </tr>\n",
       "    <tr>\n",
       "      <th>3</th>\n",
       "      <td>1642</td>\n",
       "      <td>4197577</td>\n",
       "      <td>2021-06-04 18:20:58.487196+00:00</td>\n",
       "      <td>2021-06-04 18:20:58</td>\n",
       "    </tr>\n",
       "    <tr>\n",
       "      <th>4</th>\n",
       "      <td>1642</td>\n",
       "      <td>4197174</td>\n",
       "      <td>2021-06-04 16:57:46.487970+00:00</td>\n",
       "      <td>2021-06-04 16:57:46</td>\n",
       "    </tr>\n",
       "  </tbody>\n",
       "</table>\n",
       "</div>"
      ],
      "text/plain": [
       "   user_id  activity_id                        start_time     start_time_conv\n",
       "0     1642      4197126  2021-06-04 16:51:51.454473+00:00 2021-06-04 16:51:51\n",
       "1     1642      4197075  2021-06-04 16:43:10.115201+00:00 2021-06-04 16:43:10\n",
       "2     1642      4197074  2021-06-04 16:43:10.082261+00:00 2021-06-04 16:43:10\n",
       "3     1642      4197577  2021-06-04 18:20:58.487196+00:00 2021-06-04 18:20:58\n",
       "4     1642      4197174  2021-06-04 16:57:46.487970+00:00 2021-06-04 16:57:46"
      ]
     },
     "execution_count": 125,
     "metadata": {},
     "output_type": "execute_result"
    }
   ],
   "source": [
    "studycard.head(5)"
   ]
  },
  {
   "cell_type": "markdown",
   "metadata": {},
   "source": [
    "#### No. of studycard accessed by each user"
   ]
  },
  {
   "cell_type": "code",
   "execution_count": 313,
   "metadata": {},
   "outputs": [],
   "source": [
    "studycard_per_user = studycard.groupby('user_id').agg({'activity_id':lambda x: x.shape[0]})"
   ]
  },
  {
   "cell_type": "code",
   "execution_count": 314,
   "metadata": {},
   "outputs": [
    {
     "data": {
      "text/html": [
       "<div>\n",
       "<style scoped>\n",
       "    .dataframe tbody tr th:only-of-type {\n",
       "        vertical-align: middle;\n",
       "    }\n",
       "\n",
       "    .dataframe tbody tr th {\n",
       "        vertical-align: top;\n",
       "    }\n",
       "\n",
       "    .dataframe thead th {\n",
       "        text-align: right;\n",
       "    }\n",
       "</style>\n",
       "<table border=\"1\" class=\"dataframe\">\n",
       "  <thead>\n",
       "    <tr style=\"text-align: right;\">\n",
       "      <th></th>\n",
       "      <th>activity_id</th>\n",
       "    </tr>\n",
       "    <tr>\n",
       "      <th>user_id</th>\n",
       "      <th></th>\n",
       "    </tr>\n",
       "  </thead>\n",
       "  <tbody>\n",
       "    <tr>\n",
       "      <th>1642</th>\n",
       "      <td>8</td>\n",
       "    </tr>\n",
       "    <tr>\n",
       "      <th>1796</th>\n",
       "      <td>2</td>\n",
       "    </tr>\n",
       "    <tr>\n",
       "      <th>2610</th>\n",
       "      <td>51</td>\n",
       "    </tr>\n",
       "  </tbody>\n",
       "</table>\n",
       "</div>"
      ],
      "text/plain": [
       "         activity_id\n",
       "user_id             \n",
       "1642               8\n",
       "1796               2\n",
       "2610              51"
      ]
     },
     "execution_count": 314,
     "metadata": {},
     "output_type": "execute_result"
    }
   ],
   "source": [
    "studycard_per_user.head(3)"
   ]
  },
  {
   "cell_type": "code",
   "execution_count": 315,
   "metadata": {},
   "outputs": [],
   "source": [
    "studycard_per_user.rename(columns={'activity_id':'count'}, inplace=True)\n",
    "studycard_per_user['user_id'] = studycard_per_user.index\n",
    "studycard_per_user.index = [x for x in range(studycard_per_user.shape[0])]\n"
   ]
  },
  {
   "cell_type": "code",
   "execution_count": 316,
   "metadata": {},
   "outputs": [
    {
     "data": {
      "text/html": [
       "<div>\n",
       "<style scoped>\n",
       "    .dataframe tbody tr th:only-of-type {\n",
       "        vertical-align: middle;\n",
       "    }\n",
       "\n",
       "    .dataframe tbody tr th {\n",
       "        vertical-align: top;\n",
       "    }\n",
       "\n",
       "    .dataframe thead th {\n",
       "        text-align: right;\n",
       "    }\n",
       "</style>\n",
       "<table border=\"1\" class=\"dataframe\">\n",
       "  <thead>\n",
       "    <tr style=\"text-align: right;\">\n",
       "      <th></th>\n",
       "      <th>count</th>\n",
       "      <th>user_id</th>\n",
       "    </tr>\n",
       "  </thead>\n",
       "  <tbody>\n",
       "    <tr>\n",
       "      <th>40</th>\n",
       "      <td>69</td>\n",
       "      <td>28487</td>\n",
       "    </tr>\n",
       "    <tr>\n",
       "      <th>102</th>\n",
       "      <td>65</td>\n",
       "      <td>89201</td>\n",
       "    </tr>\n",
       "    <tr>\n",
       "      <th>2</th>\n",
       "      <td>51</td>\n",
       "      <td>2610</td>\n",
       "    </tr>\n",
       "    <tr>\n",
       "      <th>256</th>\n",
       "      <td>45</td>\n",
       "      <td>229734</td>\n",
       "    </tr>\n",
       "    <tr>\n",
       "      <th>81</th>\n",
       "      <td>44</td>\n",
       "      <td>61874</td>\n",
       "    </tr>\n",
       "    <tr>\n",
       "      <th>101</th>\n",
       "      <td>43</td>\n",
       "      <td>88653</td>\n",
       "    </tr>\n",
       "    <tr>\n",
       "      <th>13</th>\n",
       "      <td>43</td>\n",
       "      <td>8062</td>\n",
       "    </tr>\n",
       "    <tr>\n",
       "      <th>335</th>\n",
       "      <td>40</td>\n",
       "      <td>338577</td>\n",
       "    </tr>\n",
       "    <tr>\n",
       "      <th>117</th>\n",
       "      <td>38</td>\n",
       "      <td>102410</td>\n",
       "    </tr>\n",
       "    <tr>\n",
       "      <th>38</th>\n",
       "      <td>37</td>\n",
       "      <td>26580</td>\n",
       "    </tr>\n",
       "  </tbody>\n",
       "</table>\n",
       "</div>"
      ],
      "text/plain": [
       "     count  user_id\n",
       "40      69    28487\n",
       "102     65    89201\n",
       "2       51     2610\n",
       "256     45   229734\n",
       "81      44    61874\n",
       "101     43    88653\n",
       "13      43     8062\n",
       "335     40   338577\n",
       "117     38   102410\n",
       "38      37    26580"
      ]
     },
     "execution_count": 316,
     "metadata": {},
     "output_type": "execute_result"
    }
   ],
   "source": [
    "studycard_per_user.sort_values(by='count',ascending=False).head(10)"
   ]
  },
  {
   "cell_type": "markdown",
   "metadata": {},
   "source": [
    "#### Average no. of studycards used per user"
   ]
  },
  {
   "cell_type": "code",
   "execution_count": 318,
   "metadata": {},
   "outputs": [
    {
     "data": {
      "text/plain": [
       "6.0"
      ]
     },
     "execution_count": 318,
     "metadata": {},
     "output_type": "execute_result"
    }
   ],
   "source": [
    "studycard_per_user['count'].median()"
   ]
  },
  {
   "cell_type": "markdown",
   "metadata": {},
   "source": [
    "##### On average, each user useses 6 studycards"
   ]
  },
  {
   "cell_type": "markdown",
   "metadata": {},
   "source": [
    "<br>"
   ]
  },
  {
   "cell_type": "markdown",
   "metadata": {},
   "source": [
    "### Paid and Unpaid users Comparision"
   ]
  },
  {
   "cell_type": "code",
   "execution_count": 130,
   "metadata": {},
   "outputs": [],
   "source": [
    "userid_paid_users = list(userdetails.loc[userdetails['paid']==True,'user_uid'])\n",
    "userid_unpaid_users = list(userdetails.loc[userdetails['paid']==False,'user_uid'])"
   ]
  },
  {
   "cell_type": "code",
   "execution_count": 131,
   "metadata": {},
   "outputs": [],
   "source": [
    "# Getting video details for paid users"
   ]
  },
  {
   "cell_type": "code",
   "execution_count": 132,
   "metadata": {},
   "outputs": [
    {
     "data": {
      "text/html": [
       "<div>\n",
       "<style scoped>\n",
       "    .dataframe tbody tr th:only-of-type {\n",
       "        vertical-align: middle;\n",
       "    }\n",
       "\n",
       "    .dataframe tbody tr th {\n",
       "        vertical-align: top;\n",
       "    }\n",
       "\n",
       "    .dataframe thead th {\n",
       "        text-align: right;\n",
       "    }\n",
       "</style>\n",
       "<table border=\"1\" class=\"dataframe\">\n",
       "  <thead>\n",
       "    <tr style=\"text-align: right;\">\n",
       "      <th></th>\n",
       "      <th>watched_duration</th>\n",
       "      <th>watched_perc</th>\n",
       "      <th>watched_at_conv</th>\n",
       "      <th>week</th>\n",
       "    </tr>\n",
       "  </thead>\n",
       "  <tbody>\n",
       "    <tr>\n",
       "      <th>0</th>\n",
       "      <td>272.0</td>\n",
       "      <td>35.344193</td>\n",
       "      <td>2021-06-06</td>\n",
       "      <td>1</td>\n",
       "    </tr>\n",
       "    <tr>\n",
       "      <th>1</th>\n",
       "      <td>107.0</td>\n",
       "      <td>15.302491</td>\n",
       "      <td>2021-06-13</td>\n",
       "      <td>2</td>\n",
       "    </tr>\n",
       "    <tr>\n",
       "      <th>2</th>\n",
       "      <td>168.5</td>\n",
       "      <td>29.420732</td>\n",
       "      <td>2021-06-20</td>\n",
       "      <td>3</td>\n",
       "    </tr>\n",
       "    <tr>\n",
       "      <th>3</th>\n",
       "      <td>178.5</td>\n",
       "      <td>20.455206</td>\n",
       "      <td>2021-06-27</td>\n",
       "      <td>4</td>\n",
       "    </tr>\n",
       "    <tr>\n",
       "      <th>4</th>\n",
       "      <td>194.5</td>\n",
       "      <td>30.410133</td>\n",
       "      <td>2021-07-04</td>\n",
       "      <td>5</td>\n",
       "    </tr>\n",
       "    <tr>\n",
       "      <th>5</th>\n",
       "      <td>155.0</td>\n",
       "      <td>18.843802</td>\n",
       "      <td>2021-07-11</td>\n",
       "      <td>6</td>\n",
       "    </tr>\n",
       "    <tr>\n",
       "      <th>6</th>\n",
       "      <td>191.0</td>\n",
       "      <td>24.492678</td>\n",
       "      <td>2021-07-18</td>\n",
       "      <td>7</td>\n",
       "    </tr>\n",
       "    <tr>\n",
       "      <th>7</th>\n",
       "      <td>156.5</td>\n",
       "      <td>17.652248</td>\n",
       "      <td>2021-07-25</td>\n",
       "      <td>8</td>\n",
       "    </tr>\n",
       "    <tr>\n",
       "      <th>8</th>\n",
       "      <td>163.0</td>\n",
       "      <td>19.233593</td>\n",
       "      <td>2021-08-01</td>\n",
       "      <td>9</td>\n",
       "    </tr>\n",
       "    <tr>\n",
       "      <th>9</th>\n",
       "      <td>111.5</td>\n",
       "      <td>14.393405</td>\n",
       "      <td>2021-08-08</td>\n",
       "      <td>10</td>\n",
       "    </tr>\n",
       "  </tbody>\n",
       "</table>\n",
       "</div>"
      ],
      "text/plain": [
       "   watched_duration  watched_perc watched_at_conv  week\n",
       "0             272.0     35.344193      2021-06-06     1\n",
       "1             107.0     15.302491      2021-06-13     2\n",
       "2             168.5     29.420732      2021-06-20     3\n",
       "3             178.5     20.455206      2021-06-27     4\n",
       "4             194.5     30.410133      2021-07-04     5\n",
       "5             155.0     18.843802      2021-07-11     6\n",
       "6             191.0     24.492678      2021-07-18     7\n",
       "7             156.5     17.652248      2021-07-25     8\n",
       "8             163.0     19.233593      2021-08-01     9\n",
       "9             111.5     14.393405      2021-08-08    10"
      ]
     },
     "execution_count": 132,
     "metadata": {},
     "output_type": "execute_result"
    }
   ],
   "source": [
    "videos_paid_users_weekly = videos[videos['user_id'].isin(userid_paid_users)].set_index('watched_at_conv')\n",
    "videos_paid_users_weekly = videos_paid_users_weekly.resample('W').agg({'watched_duration':'median', 'watched_perc':'median'})\n",
    "videos_paid_users_weekly['watched_at_conv'] = videos_paid_users_weekly.index\n",
    "videos_paid_users_weekly.index = [x for x in range(videos_paid_users_weekly.shape[0])]\n",
    "videos_paid_users_weekly['week'] = [x+1 for x in videos_paid_users_weekly.index]\n",
    "videos_paid_users_weekly"
   ]
  },
  {
   "cell_type": "code",
   "execution_count": 133,
   "metadata": {},
   "outputs": [],
   "source": [
    "# Getting video details for unpaid users"
   ]
  },
  {
   "cell_type": "code",
   "execution_count": 134,
   "metadata": {},
   "outputs": [
    {
     "data": {
      "text/html": [
       "<div>\n",
       "<style scoped>\n",
       "    .dataframe tbody tr th:only-of-type {\n",
       "        vertical-align: middle;\n",
       "    }\n",
       "\n",
       "    .dataframe tbody tr th {\n",
       "        vertical-align: top;\n",
       "    }\n",
       "\n",
       "    .dataframe thead th {\n",
       "        text-align: right;\n",
       "    }\n",
       "</style>\n",
       "<table border=\"1\" class=\"dataframe\">\n",
       "  <thead>\n",
       "    <tr style=\"text-align: right;\">\n",
       "      <th></th>\n",
       "      <th>watched_duration</th>\n",
       "      <th>watched_perc</th>\n",
       "      <th>watched_at_conv</th>\n",
       "      <th>week</th>\n",
       "    </tr>\n",
       "  </thead>\n",
       "  <tbody>\n",
       "    <tr>\n",
       "      <th>0</th>\n",
       "      <td>58.0</td>\n",
       "      <td>9.471095</td>\n",
       "      <td>2021-06-06</td>\n",
       "      <td>1</td>\n",
       "    </tr>\n",
       "    <tr>\n",
       "      <th>1</th>\n",
       "      <td>49.5</td>\n",
       "      <td>9.005468</td>\n",
       "      <td>2021-06-13</td>\n",
       "      <td>2</td>\n",
       "    </tr>\n",
       "    <tr>\n",
       "      <th>2</th>\n",
       "      <td>46.0</td>\n",
       "      <td>7.362117</td>\n",
       "      <td>2021-06-20</td>\n",
       "      <td>3</td>\n",
       "    </tr>\n",
       "    <tr>\n",
       "      <th>3</th>\n",
       "      <td>92.0</td>\n",
       "      <td>23.463687</td>\n",
       "      <td>2021-06-27</td>\n",
       "      <td>4</td>\n",
       "    </tr>\n",
       "    <tr>\n",
       "      <th>4</th>\n",
       "      <td>56.0</td>\n",
       "      <td>7.454290</td>\n",
       "      <td>2021-07-04</td>\n",
       "      <td>5</td>\n",
       "    </tr>\n",
       "    <tr>\n",
       "      <th>5</th>\n",
       "      <td>45.0</td>\n",
       "      <td>7.276736</td>\n",
       "      <td>2021-07-11</td>\n",
       "      <td>6</td>\n",
       "    </tr>\n",
       "    <tr>\n",
       "      <th>6</th>\n",
       "      <td>46.0</td>\n",
       "      <td>8.003007</td>\n",
       "      <td>2021-07-18</td>\n",
       "      <td>7</td>\n",
       "    </tr>\n",
       "    <tr>\n",
       "      <th>7</th>\n",
       "      <td>49.0</td>\n",
       "      <td>8.293613</td>\n",
       "      <td>2021-07-25</td>\n",
       "      <td>8</td>\n",
       "    </tr>\n",
       "    <tr>\n",
       "      <th>8</th>\n",
       "      <td>45.0</td>\n",
       "      <td>8.256881</td>\n",
       "      <td>2021-08-01</td>\n",
       "      <td>9</td>\n",
       "    </tr>\n",
       "    <tr>\n",
       "      <th>9</th>\n",
       "      <td>143.0</td>\n",
       "      <td>12.354052</td>\n",
       "      <td>2021-08-08</td>\n",
       "      <td>10</td>\n",
       "    </tr>\n",
       "  </tbody>\n",
       "</table>\n",
       "</div>"
      ],
      "text/plain": [
       "   watched_duration  watched_perc watched_at_conv  week\n",
       "0              58.0      9.471095      2021-06-06     1\n",
       "1              49.5      9.005468      2021-06-13     2\n",
       "2              46.0      7.362117      2021-06-20     3\n",
       "3              92.0     23.463687      2021-06-27     4\n",
       "4              56.0      7.454290      2021-07-04     5\n",
       "5              45.0      7.276736      2021-07-11     6\n",
       "6              46.0      8.003007      2021-07-18     7\n",
       "7              49.0      8.293613      2021-07-25     8\n",
       "8              45.0      8.256881      2021-08-01     9\n",
       "9             143.0     12.354052      2021-08-08    10"
      ]
     },
     "execution_count": 134,
     "metadata": {},
     "output_type": "execute_result"
    }
   ],
   "source": [
    "videos_unpaid_users_weekly = videos[videos['user_id'].isin(userid_unpaid_users)].set_index('watched_at_conv')\n",
    "videos_unpaid_users_weekly = videos_unpaid_users_weekly.resample('W').agg({'watched_duration':'median', 'watched_perc':'median'})\n",
    "videos_unpaid_users_weekly['watched_at_conv'] = videos_unpaid_users_weekly.index\n",
    "videos_unpaid_users_weekly.index = [x for x in range(videos_unpaid_users_weekly.shape[0])]\n",
    "videos_unpaid_users_weekly['week'] = [x+1 for x in videos_unpaid_users_weekly.index]\n",
    "videos_unpaid_users_weekly"
   ]
  },
  {
   "cell_type": "code",
   "execution_count": null,
   "metadata": {},
   "outputs": [],
   "source": []
  },
  {
   "cell_type": "code",
   "execution_count": 256,
   "metadata": {},
   "outputs": [
    {
     "data": {
      "image/png": "[encoded data removed]",
      "text/plain": [
       "<Figure size 720x792 with 2 Axes>"
      ]
     },
     "metadata": {},
     "output_type": "display_data"
    }
   ],
   "source": [
    "fig, (ax1, ax2) = plt.subplots(figsize=(10,11),nrows=2, ncols=1)\n",
    "\n",
    "paid_watch_duration = list(videos_paid_users_weekly['watched_duration'])\n",
    "paid_week = list(videos_paid_users_weekly['watched_at_conv'])\n",
    "\n",
    "unpaid_watch_duration = list(videos_unpaid_users_weekly['watched_duration'])\n",
    "unpaid_week = list(videos_unpaid_users_weekly['watched_at_conv'])\n",
    "\n",
    "paid_week = [x.strftime('%Y-%m-%d') for x in paid_week]\n",
    "unpaid_week = [x.strftime('%Y-%m-%d') for x in unpaid_week]\n",
    "\n",
    "ax1.plot(paid_week,\n",
    "        paid_watch_duration,\n",
    "        label='Paid Users',\n",
    "        color='#003f5c',\n",
    "         marker='o')\n",
    "ax1.set_xticklabels(paid_week, rotation=45, ha='center')\n",
    "ax1.set_ylabel('Watch Duration',fontsize=12, fontweight='bold')\n",
    "ax1.set_title('Watch Duration Comparision for Paid and Unpaid users across weeks',\n",
    "             fontsize=12, fontweight='bold')\n",
    "ax1.legend()\n",
    "\n",
    "\n",
    "ax2.plot(unpaid_week,\n",
    "        unpaid_watch_duration,\n",
    "        label='Unpaid Users',\n",
    "        color='#ffa600',\n",
    "         marker='o')\n",
    "ax2.set_xticklabels(unpaid_week, rotation=45, ha='center')\n",
    "ax2.set_xlabel('Weeks', fontsize=12, fontweight='bold')\n",
    "ax2.set_ylabel('Watch Duration',fontsize=12, fontweight='bold')\n",
    "ax2.legend()\n",
    "\n",
    "plt.show()"
   ]
  },
  {
   "cell_type": "code",
   "execution_count": 135,
   "metadata": {},
   "outputs": [],
   "source": [
    "# Getting subscription details for paid users"
   ]
  },
  {
   "cell_type": "code",
   "execution_count": 136,
   "metadata": {},
   "outputs": [
    {
     "data": {
      "text/html": [
       "<div>\n",
       "<style scoped>\n",
       "    .dataframe tbody tr th:only-of-type {\n",
       "        vertical-align: middle;\n",
       "    }\n",
       "\n",
       "    .dataframe tbody tr th {\n",
       "        vertical-align: top;\n",
       "    }\n",
       "\n",
       "    .dataframe thead th {\n",
       "        text-align: right;\n",
       "    }\n",
       "</style>\n",
       "<table border=\"1\" class=\"dataframe\">\n",
       "  <thead>\n",
       "    <tr style=\"text-align: right;\">\n",
       "      <th></th>\n",
       "      <th>count</th>\n",
       "      <th>subscription_date</th>\n",
       "      <th>week</th>\n",
       "    </tr>\n",
       "  </thead>\n",
       "  <tbody>\n",
       "    <tr>\n",
       "      <th>0</th>\n",
       "      <td>39</td>\n",
       "      <td>2021-06-06</td>\n",
       "      <td>1</td>\n",
       "    </tr>\n",
       "    <tr>\n",
       "      <th>1</th>\n",
       "      <td>131</td>\n",
       "      <td>2021-06-13</td>\n",
       "      <td>2</td>\n",
       "    </tr>\n",
       "    <tr>\n",
       "      <th>2</th>\n",
       "      <td>115</td>\n",
       "      <td>2021-06-20</td>\n",
       "      <td>3</td>\n",
       "    </tr>\n",
       "    <tr>\n",
       "      <th>3</th>\n",
       "      <td>146</td>\n",
       "      <td>2021-06-27</td>\n",
       "      <td>4</td>\n",
       "    </tr>\n",
       "    <tr>\n",
       "      <th>4</th>\n",
       "      <td>160</td>\n",
       "      <td>2021-07-04</td>\n",
       "      <td>5</td>\n",
       "    </tr>\n",
       "    <tr>\n",
       "      <th>5</th>\n",
       "      <td>127</td>\n",
       "      <td>2021-07-11</td>\n",
       "      <td>6</td>\n",
       "    </tr>\n",
       "    <tr>\n",
       "      <th>6</th>\n",
       "      <td>125</td>\n",
       "      <td>2021-07-18</td>\n",
       "      <td>7</td>\n",
       "    </tr>\n",
       "    <tr>\n",
       "      <th>7</th>\n",
       "      <td>107</td>\n",
       "      <td>2021-07-25</td>\n",
       "      <td>8</td>\n",
       "    </tr>\n",
       "    <tr>\n",
       "      <th>8</th>\n",
       "      <td>138</td>\n",
       "      <td>2021-08-01</td>\n",
       "      <td>9</td>\n",
       "    </tr>\n",
       "    <tr>\n",
       "      <th>9</th>\n",
       "      <td>8</td>\n",
       "      <td>2021-08-08</td>\n",
       "      <td>10</td>\n",
       "    </tr>\n",
       "  </tbody>\n",
       "</table>\n",
       "</div>"
      ],
      "text/plain": [
       "   count subscription_date  week\n",
       "0     39        2021-06-06     1\n",
       "1    131        2021-06-13     2\n",
       "2    115        2021-06-20     3\n",
       "3    146        2021-06-27     4\n",
       "4    160        2021-07-04     5\n",
       "5    127        2021-07-11     6\n",
       "6    125        2021-07-18     7\n",
       "7    107        2021-07-25     8\n",
       "8    138        2021-08-01     9\n",
       "9      8        2021-08-08    10"
      ]
     },
     "execution_count": 136,
     "metadata": {},
     "output_type": "execute_result"
    }
   ],
   "source": [
    "subscription_paid_users_weekly = subscription[subscription['user_id'].isin(userid_paid_users)].set_index('subscription_date')\n",
    "subscription_paid_users_weekly = subscription_paid_users_weekly.resample('W').agg({'track_slug': lambda x: x.shape[0]})\n",
    "subscription_paid_users_weekly.rename(columns={'track_slug':'count'},inplace=True)\n",
    "subscription_paid_users_weekly['subscription_date'] = subscription_paid_users_weekly.index\n",
    "subscription_paid_users_weekly.index = [x for x in range(subscription_paid_users_weekly.shape[0])]\n",
    "subscription_paid_users_weekly['week'] = [x+1 for x in subscription_paid_users_weekly.index]\n",
    "subscription_paid_users_weekly"
   ]
  },
  {
   "cell_type": "code",
   "execution_count": 137,
   "metadata": {},
   "outputs": [],
   "source": [
    "# Getting subscription details for unpaid users"
   ]
  },
  {
   "cell_type": "code",
   "execution_count": 138,
   "metadata": {},
   "outputs": [
    {
     "data": {
      "text/html": [
       "<div>\n",
       "<style scoped>\n",
       "    .dataframe tbody tr th:only-of-type {\n",
       "        vertical-align: middle;\n",
       "    }\n",
       "\n",
       "    .dataframe tbody tr th {\n",
       "        vertical-align: top;\n",
       "    }\n",
       "\n",
       "    .dataframe thead th {\n",
       "        text-align: right;\n",
       "    }\n",
       "</style>\n",
       "<table border=\"1\" class=\"dataframe\">\n",
       "  <thead>\n",
       "    <tr style=\"text-align: right;\">\n",
       "      <th></th>\n",
       "      <th>count</th>\n",
       "      <th>subscription_date</th>\n",
       "      <th>week</th>\n",
       "    </tr>\n",
       "  </thead>\n",
       "  <tbody>\n",
       "    <tr>\n",
       "      <th>0</th>\n",
       "      <td>20</td>\n",
       "      <td>2021-06-06</td>\n",
       "      <td>1</td>\n",
       "    </tr>\n",
       "    <tr>\n",
       "      <th>1</th>\n",
       "      <td>64</td>\n",
       "      <td>2021-06-13</td>\n",
       "      <td>2</td>\n",
       "    </tr>\n",
       "    <tr>\n",
       "      <th>2</th>\n",
       "      <td>58</td>\n",
       "      <td>2021-06-20</td>\n",
       "      <td>3</td>\n",
       "    </tr>\n",
       "    <tr>\n",
       "      <th>3</th>\n",
       "      <td>41</td>\n",
       "      <td>2021-06-27</td>\n",
       "      <td>4</td>\n",
       "    </tr>\n",
       "    <tr>\n",
       "      <th>4</th>\n",
       "      <td>62</td>\n",
       "      <td>2021-07-04</td>\n",
       "      <td>5</td>\n",
       "    </tr>\n",
       "    <tr>\n",
       "      <th>5</th>\n",
       "      <td>63</td>\n",
       "      <td>2021-07-11</td>\n",
       "      <td>6</td>\n",
       "    </tr>\n",
       "    <tr>\n",
       "      <th>6</th>\n",
       "      <td>72</td>\n",
       "      <td>2021-07-18</td>\n",
       "      <td>7</td>\n",
       "    </tr>\n",
       "    <tr>\n",
       "      <th>7</th>\n",
       "      <td>50</td>\n",
       "      <td>2021-07-25</td>\n",
       "      <td>8</td>\n",
       "    </tr>\n",
       "    <tr>\n",
       "      <th>8</th>\n",
       "      <td>42</td>\n",
       "      <td>2021-08-01</td>\n",
       "      <td>9</td>\n",
       "    </tr>\n",
       "    <tr>\n",
       "      <th>9</th>\n",
       "      <td>10</td>\n",
       "      <td>2021-08-08</td>\n",
       "      <td>10</td>\n",
       "    </tr>\n",
       "  </tbody>\n",
       "</table>\n",
       "</div>"
      ],
      "text/plain": [
       "   count subscription_date  week\n",
       "0     20        2021-06-06     1\n",
       "1     64        2021-06-13     2\n",
       "2     58        2021-06-20     3\n",
       "3     41        2021-06-27     4\n",
       "4     62        2021-07-04     5\n",
       "5     63        2021-07-11     6\n",
       "6     72        2021-07-18     7\n",
       "7     50        2021-07-25     8\n",
       "8     42        2021-08-01     9\n",
       "9     10        2021-08-08    10"
      ]
     },
     "execution_count": 138,
     "metadata": {},
     "output_type": "execute_result"
    }
   ],
   "source": [
    "subscription_unpaid_users_weekly = subscription[subscription['user_id'].isin(userid_unpaid_users)].set_index('subscription_date')\n",
    "subscription_unpaid_users_weekly = subscription_unpaid_users_weekly.resample('W').agg({'track_slug': lambda x: x.shape[0]})\n",
    "subscription_unpaid_users_weekly.rename(columns={'track_slug':'count'},inplace=True)\n",
    "subscription_unpaid_users_weekly['subscription_date'] = subscription_unpaid_users_weekly.index\n",
    "subscription_unpaid_users_weekly.index = [x for x in range(subscription_unpaid_users_weekly.shape[0])]\n",
    "subscription_unpaid_users_weekly['week'] = [x+1 for x in subscription_unpaid_users_weekly.index]\n",
    "subscription_unpaid_users_weekly"
   ]
  },
  {
   "cell_type": "code",
   "execution_count": 257,
   "metadata": {},
   "outputs": [
    {
     "data": {
      "image/png": "[encoded data removed]",
      "text/plain": [
       "<Figure size 720x792 with 2 Axes>"
      ]
     },
     "metadata": {},
     "output_type": "display_data"
    }
   ],
   "source": [
    "fig, (ax1, ax2) = plt.subplots(figsize=(10,11),nrows=2, ncols=1)\n",
    "\n",
    "paid_sub_count = list(subscription_paid_users_weekly['count'])\n",
    "paid_week = list(subscription_paid_users_weekly['subscription_date'])\n",
    "\n",
    "unpaid_sub_count = list(subscription_unpaid_users_weekly['count'])\n",
    "unpaid_week = list(subscription_unpaid_users_weekly['subscription_date'])\n",
    "\n",
    "paid_week = [x.strftime('%Y-%m-%d') for x in paid_week]\n",
    "unpaid_week = [x.strftime('%Y-%m-%d') for x in unpaid_week]\n",
    "\n",
    "ax1.plot(paid_week,\n",
    "        paid_sub_count,\n",
    "        label='Paid Users',\n",
    "        color='#003f5c',\n",
    "         marker='o')\n",
    "ax1.set_xticklabels(paid_week, rotation=45, ha='center')\n",
    "ax1.set_ylabel('Course Count',fontsize=12, fontweight='bold')\n",
    "ax1.set_title('Course Count Comparision for Paid and Unpaid users across weeks',\n",
    "             fontsize=12, fontweight='bold')\n",
    "ax1.legend()\n",
    "\n",
    "\n",
    "ax2.plot(unpaid_week,\n",
    "        unpaid_sub_count,\n",
    "        label='Unpaid Users',\n",
    "        color='#ffa600',\n",
    "         marker='o')\n",
    "ax2.set_xticklabels(unpaid_week, rotation=45, ha='center')\n",
    "ax2.set_xlabel('Weeks', fontsize=12, fontweight='bold')\n",
    "ax2.set_ylabel('Course Count',fontsize=12, fontweight='bold')\n",
    "ax2.legend()\n",
    "\n",
    "plt.show()"
   ]
  },
  {
   "cell_type": "code",
   "execution_count": 139,
   "metadata": {},
   "outputs": [],
   "source": [
    "# Getting quiz details for paid users"
   ]
  },
  {
   "cell_type": "code",
   "execution_count": 140,
   "metadata": {},
   "outputs": [
    {
     "data": {
      "text/html": [
       "<div>\n",
       "<style scoped>\n",
       "    .dataframe tbody tr th:only-of-type {\n",
       "        vertical-align: middle;\n",
       "    }\n",
       "\n",
       "    .dataframe tbody tr th {\n",
       "        vertical-align: top;\n",
       "    }\n",
       "\n",
       "    .dataframe thead th {\n",
       "        text-align: right;\n",
       "    }\n",
       "</style>\n",
       "<table border=\"1\" class=\"dataframe\">\n",
       "  <thead>\n",
       "    <tr style=\"text-align: right;\">\n",
       "      <th></th>\n",
       "      <th>count</th>\n",
       "      <th>started_at_conv</th>\n",
       "      <th>week</th>\n",
       "    </tr>\n",
       "  </thead>\n",
       "  <tbody>\n",
       "    <tr>\n",
       "      <th>0</th>\n",
       "      <td>63</td>\n",
       "      <td>2021-06-06</td>\n",
       "      <td>1</td>\n",
       "    </tr>\n",
       "    <tr>\n",
       "      <th>1</th>\n",
       "      <td>645</td>\n",
       "      <td>2021-06-13</td>\n",
       "      <td>2</td>\n",
       "    </tr>\n",
       "    <tr>\n",
       "      <th>2</th>\n",
       "      <td>599</td>\n",
       "      <td>2021-06-20</td>\n",
       "      <td>3</td>\n",
       "    </tr>\n",
       "    <tr>\n",
       "      <th>3</th>\n",
       "      <td>1108</td>\n",
       "      <td>2021-06-27</td>\n",
       "      <td>4</td>\n",
       "    </tr>\n",
       "    <tr>\n",
       "      <th>4</th>\n",
       "      <td>1160</td>\n",
       "      <td>2021-07-04</td>\n",
       "      <td>5</td>\n",
       "    </tr>\n",
       "    <tr>\n",
       "      <th>5</th>\n",
       "      <td>1940</td>\n",
       "      <td>2021-07-11</td>\n",
       "      <td>6</td>\n",
       "    </tr>\n",
       "    <tr>\n",
       "      <th>6</th>\n",
       "      <td>1987</td>\n",
       "      <td>2021-07-18</td>\n",
       "      <td>7</td>\n",
       "    </tr>\n",
       "    <tr>\n",
       "      <th>7</th>\n",
       "      <td>2181</td>\n",
       "      <td>2021-07-25</td>\n",
       "      <td>8</td>\n",
       "    </tr>\n",
       "    <tr>\n",
       "      <th>8</th>\n",
       "      <td>2329</td>\n",
       "      <td>2021-08-01</td>\n",
       "      <td>9</td>\n",
       "    </tr>\n",
       "    <tr>\n",
       "      <th>9</th>\n",
       "      <td>316</td>\n",
       "      <td>2021-08-08</td>\n",
       "      <td>10</td>\n",
       "    </tr>\n",
       "  </tbody>\n",
       "</table>\n",
       "</div>"
      ],
      "text/plain": [
       "   count started_at_conv  week\n",
       "0     63      2021-06-06     1\n",
       "1    645      2021-06-13     2\n",
       "2    599      2021-06-20     3\n",
       "3   1108      2021-06-27     4\n",
       "4   1160      2021-07-04     5\n",
       "5   1940      2021-07-11     6\n",
       "6   1987      2021-07-18     7\n",
       "7   2181      2021-07-25     8\n",
       "8   2329      2021-08-01     9\n",
       "9    316      2021-08-08    10"
      ]
     },
     "execution_count": 140,
     "metadata": {},
     "output_type": "execute_result"
    }
   ],
   "source": [
    "quiz_details_paid_users_weekly = quiz[(quiz['user_id'].isin(userid_paid_users)) & (quiz['status']=='COMPLETE')].set_index('started_at_conv')\n",
    "quiz_details_paid_users_weekly  = quiz_details_paid_users_weekly .resample('W').agg({'attempt_id': lambda x: x.shape[0]})\n",
    "quiz_details_paid_users_weekly .rename(columns={'attempt_id':'count'}, inplace=True)\n",
    "quiz_details_paid_users_weekly ['started_at_conv'] = quiz_details_paid_users_weekly .index\n",
    "quiz_details_paid_users_weekly .index = [x for x in range(quiz_details_paid_users_weekly .shape[0])]\n",
    "quiz_details_paid_users_weekly ['week'] = [x+1 for x in quiz_details_paid_users_weekly .index]\n",
    "quiz_details_paid_users_weekly "
   ]
  },
  {
   "cell_type": "code",
   "execution_count": 141,
   "metadata": {},
   "outputs": [],
   "source": [
    "# Getting quiz details for unpaid users"
   ]
  },
  {
   "cell_type": "code",
   "execution_count": 142,
   "metadata": {},
   "outputs": [
    {
     "data": {
      "text/html": [
       "<div>\n",
       "<style scoped>\n",
       "    .dataframe tbody tr th:only-of-type {\n",
       "        vertical-align: middle;\n",
       "    }\n",
       "\n",
       "    .dataframe tbody tr th {\n",
       "        vertical-align: top;\n",
       "    }\n",
       "\n",
       "    .dataframe thead th {\n",
       "        text-align: right;\n",
       "    }\n",
       "</style>\n",
       "<table border=\"1\" class=\"dataframe\">\n",
       "  <thead>\n",
       "    <tr style=\"text-align: right;\">\n",
       "      <th></th>\n",
       "      <th>count</th>\n",
       "      <th>started_at_conv</th>\n",
       "      <th>week</th>\n",
       "    </tr>\n",
       "  </thead>\n",
       "  <tbody>\n",
       "    <tr>\n",
       "      <th>0</th>\n",
       "      <td>1</td>\n",
       "      <td>2021-06-06</td>\n",
       "      <td>1</td>\n",
       "    </tr>\n",
       "    <tr>\n",
       "      <th>1</th>\n",
       "      <td>37</td>\n",
       "      <td>2021-06-13</td>\n",
       "      <td>2</td>\n",
       "    </tr>\n",
       "    <tr>\n",
       "      <th>2</th>\n",
       "      <td>7</td>\n",
       "      <td>2021-06-20</td>\n",
       "      <td>3</td>\n",
       "    </tr>\n",
       "    <tr>\n",
       "      <th>3</th>\n",
       "      <td>6</td>\n",
       "      <td>2021-06-27</td>\n",
       "      <td>4</td>\n",
       "    </tr>\n",
       "    <tr>\n",
       "      <th>4</th>\n",
       "      <td>17</td>\n",
       "      <td>2021-07-04</td>\n",
       "      <td>5</td>\n",
       "    </tr>\n",
       "    <tr>\n",
       "      <th>5</th>\n",
       "      <td>99</td>\n",
       "      <td>2021-07-11</td>\n",
       "      <td>6</td>\n",
       "    </tr>\n",
       "    <tr>\n",
       "      <th>6</th>\n",
       "      <td>93</td>\n",
       "      <td>2021-07-18</td>\n",
       "      <td>7</td>\n",
       "    </tr>\n",
       "    <tr>\n",
       "      <th>7</th>\n",
       "      <td>77</td>\n",
       "      <td>2021-07-25</td>\n",
       "      <td>8</td>\n",
       "    </tr>\n",
       "    <tr>\n",
       "      <th>8</th>\n",
       "      <td>458</td>\n",
       "      <td>2021-08-01</td>\n",
       "      <td>9</td>\n",
       "    </tr>\n",
       "    <tr>\n",
       "      <th>9</th>\n",
       "      <td>50</td>\n",
       "      <td>2021-08-08</td>\n",
       "      <td>10</td>\n",
       "    </tr>\n",
       "  </tbody>\n",
       "</table>\n",
       "</div>"
      ],
      "text/plain": [
       "   count started_at_conv  week\n",
       "0      1      2021-06-06     1\n",
       "1     37      2021-06-13     2\n",
       "2      7      2021-06-20     3\n",
       "3      6      2021-06-27     4\n",
       "4     17      2021-07-04     5\n",
       "5     99      2021-07-11     6\n",
       "6     93      2021-07-18     7\n",
       "7     77      2021-07-25     8\n",
       "8    458      2021-08-01     9\n",
       "9     50      2021-08-08    10"
      ]
     },
     "execution_count": 142,
     "metadata": {},
     "output_type": "execute_result"
    }
   ],
   "source": [
    "quiz_details_unpaid_users_weekly  = quiz[(quiz['user_id'].isin(userid_unpaid_users)) & (quiz['status']=='COMPLETE')].set_index('started_at_conv')\n",
    "quiz_details_unpaid_users_weekly  = quiz_details_unpaid_users_weekly.resample('W').agg({'attempt_id': lambda x: x.shape[0]})\n",
    "quiz_details_unpaid_users_weekly .rename(columns={'attempt_id':'count'}, inplace=True)\n",
    "quiz_details_unpaid_users_weekly ['started_at_conv'] = quiz_details_unpaid_users_weekly .index\n",
    "quiz_details_unpaid_users_weekly .index = [x for x in range(quiz_details_unpaid_users_weekly .shape[0])]\n",
    "quiz_details_unpaid_users_weekly ['week'] = [x+1 for x in quiz_details_unpaid_users_weekly .index]\n",
    "quiz_details_unpaid_users_weekly "
   ]
  },
  {
   "cell_type": "code",
   "execution_count": 254,
   "metadata": {},
   "outputs": [
    {
     "data": {
      "image/png": "[encoded data removed]",
      "text/plain": [
       "<Figure size 720x792 with 2 Axes>"
      ]
     },
     "metadata": {},
     "output_type": "display_data"
    }
   ],
   "source": [
    "fig, (ax1, ax2) = plt.subplots(figsize=(10,11),nrows=2, ncols=1)\n",
    "\n",
    "paid_quiz_count = list(quiz_details_paid_users_weekly['count'])\n",
    "paid_week = list(quiz_details_paid_users_weekly['started_at_conv'])\n",
    "\n",
    "unpaid_quiz_count = list(quiz_details_unpaid_users_weekly['count'])\n",
    "unpaid_week = list(quiz_details_unpaid_users_weekly['started_at_conv'])\n",
    "\n",
    "paid_week = [x.strftime('%Y-%m-%d') for x in paid_week]\n",
    "unpaid_week = [x.strftime('%Y-%m-%d') for x in unpaid_week]\n",
    "\n",
    "ax1.plot(paid_week,\n",
    "        paid_quiz_count,\n",
    "        label='Paid Users',\n",
    "        color='#003f5c',\n",
    "         marker='o')\n",
    "ax1.set_xticklabels(paid_week, rotation=45, ha='center')\n",
    "ax1.set_ylabel('Quizzes Completed',fontsize=12, fontweight='bold')\n",
    "ax1.set_title('Quiz Completion Comparision for Paid and Unpaid users across weeks',\n",
    "             fontsize=12, fontweight='bold')\n",
    "ax1.legend()\n",
    "\n",
    "\n",
    "ax2.plot(unpaid_week,\n",
    "        unpaid_quiz_count,\n",
    "        label='Unpaid Users',\n",
    "        color='#ffa600',\n",
    "         marker='o')\n",
    "ax2.set_xticklabels(unpaid_week, rotation=45, ha='center')\n",
    "ax2.set_xlabel('Weeks', fontsize=12, fontweight='bold')\n",
    "ax2.set_ylabel('Quizzes Completed',fontsize=12, fontweight='bold')\n",
    "ax2.legend()\n",
    "\n",
    "plt.show()"
   ]
  },
  {
   "cell_type": "code",
   "execution_count": null,
   "metadata": {},
   "outputs": [],
   "source": []
  },
  {
   "cell_type": "code",
   "execution_count": 143,
   "metadata": {},
   "outputs": [],
   "source": [
    "# Getting studycard details for paid users"
   ]
  },
  {
   "cell_type": "code",
   "execution_count": 144,
   "metadata": {},
   "outputs": [
    {
     "data": {
      "text/html": [
       "<div>\n",
       "<style scoped>\n",
       "    .dataframe tbody tr th:only-of-type {\n",
       "        vertical-align: middle;\n",
       "    }\n",
       "\n",
       "    .dataframe tbody tr th {\n",
       "        vertical-align: top;\n",
       "    }\n",
       "\n",
       "    .dataframe thead th {\n",
       "        text-align: right;\n",
       "    }\n",
       "</style>\n",
       "<table border=\"1\" class=\"dataframe\">\n",
       "  <thead>\n",
       "    <tr style=\"text-align: right;\">\n",
       "      <th></th>\n",
       "      <th>count</th>\n",
       "      <th>start_time_conv</th>\n",
       "      <th>week</th>\n",
       "    </tr>\n",
       "  </thead>\n",
       "  <tbody>\n",
       "    <tr>\n",
       "      <th>0</th>\n",
       "      <td>55</td>\n",
       "      <td>2021-06-06</td>\n",
       "      <td>1</td>\n",
       "    </tr>\n",
       "    <tr>\n",
       "      <th>1</th>\n",
       "      <td>343</td>\n",
       "      <td>2021-06-13</td>\n",
       "      <td>2</td>\n",
       "    </tr>\n",
       "    <tr>\n",
       "      <th>2</th>\n",
       "      <td>423</td>\n",
       "      <td>2021-06-20</td>\n",
       "      <td>3</td>\n",
       "    </tr>\n",
       "    <tr>\n",
       "      <th>3</th>\n",
       "      <td>355</td>\n",
       "      <td>2021-06-27</td>\n",
       "      <td>4</td>\n",
       "    </tr>\n",
       "    <tr>\n",
       "      <th>4</th>\n",
       "      <td>351</td>\n",
       "      <td>2021-07-04</td>\n",
       "      <td>5</td>\n",
       "    </tr>\n",
       "    <tr>\n",
       "      <th>5</th>\n",
       "      <td>445</td>\n",
       "      <td>2021-07-11</td>\n",
       "      <td>6</td>\n",
       "    </tr>\n",
       "    <tr>\n",
       "      <th>6</th>\n",
       "      <td>349</td>\n",
       "      <td>2021-07-18</td>\n",
       "      <td>7</td>\n",
       "    </tr>\n",
       "    <tr>\n",
       "      <th>7</th>\n",
       "      <td>462</td>\n",
       "      <td>2021-07-25</td>\n",
       "      <td>8</td>\n",
       "    </tr>\n",
       "    <tr>\n",
       "      <th>8</th>\n",
       "      <td>463</td>\n",
       "      <td>2021-08-01</td>\n",
       "      <td>9</td>\n",
       "    </tr>\n",
       "    <tr>\n",
       "      <th>9</th>\n",
       "      <td>79</td>\n",
       "      <td>2021-08-08</td>\n",
       "      <td>10</td>\n",
       "    </tr>\n",
       "  </tbody>\n",
       "</table>\n",
       "</div>"
      ],
      "text/plain": [
       "   count start_time_conv  week\n",
       "0     55      2021-06-06     1\n",
       "1    343      2021-06-13     2\n",
       "2    423      2021-06-20     3\n",
       "3    355      2021-06-27     4\n",
       "4    351      2021-07-04     5\n",
       "5    445      2021-07-11     6\n",
       "6    349      2021-07-18     7\n",
       "7    462      2021-07-25     8\n",
       "8    463      2021-08-01     9\n",
       "9     79      2021-08-08    10"
      ]
     },
     "execution_count": 144,
     "metadata": {},
     "output_type": "execute_result"
    }
   ],
   "source": [
    "studycard_details_paid_users_weekly = studycard[studycard['user_id'].isin(userid_paid_users)].set_index('start_time_conv')\n",
    "studycard_details_paid_users_weekly = studycard_details_paid_users_weekly.resample('W').agg({'activity_id': lambda x: x.shape[0]})\n",
    "studycard_details_paid_users_weekly.rename(columns={'activity_id':'count'}, inplace=True)\n",
    "studycard_details_paid_users_weekly['start_time_conv'] = studycard_details_paid_users_weekly.index\n",
    "studycard_details_paid_users_weekly.index = [x for x in range(studycard_details_paid_users_weekly.shape[0])]\n",
    "studycard_details_paid_users_weekly['week'] = [x+1 for x in studycard_details_paid_users_weekly.index]\n",
    "studycard_details_paid_users_weekly"
   ]
  },
  {
   "cell_type": "code",
   "execution_count": 145,
   "metadata": {},
   "outputs": [],
   "source": [
    "# Getting studycard details for unpaid users"
   ]
  },
  {
   "cell_type": "code",
   "execution_count": 146,
   "metadata": {},
   "outputs": [
    {
     "data": {
      "text/html": [
       "<div>\n",
       "<style scoped>\n",
       "    .dataframe tbody tr th:only-of-type {\n",
       "        vertical-align: middle;\n",
       "    }\n",
       "\n",
       "    .dataframe tbody tr th {\n",
       "        vertical-align: top;\n",
       "    }\n",
       "\n",
       "    .dataframe thead th {\n",
       "        text-align: right;\n",
       "    }\n",
       "</style>\n",
       "<table border=\"1\" class=\"dataframe\">\n",
       "  <thead>\n",
       "    <tr style=\"text-align: right;\">\n",
       "      <th></th>\n",
       "      <th>count</th>\n",
       "      <th>start_time_conv</th>\n",
       "      <th>week</th>\n",
       "    </tr>\n",
       "  </thead>\n",
       "  <tbody>\n",
       "    <tr>\n",
       "      <th>0</th>\n",
       "      <td>25</td>\n",
       "      <td>2021-06-13</td>\n",
       "      <td>1</td>\n",
       "    </tr>\n",
       "    <tr>\n",
       "      <th>1</th>\n",
       "      <td>14</td>\n",
       "      <td>2021-06-20</td>\n",
       "      <td>2</td>\n",
       "    </tr>\n",
       "    <tr>\n",
       "      <th>2</th>\n",
       "      <td>7</td>\n",
       "      <td>2021-06-27</td>\n",
       "      <td>3</td>\n",
       "    </tr>\n",
       "    <tr>\n",
       "      <th>3</th>\n",
       "      <td>8</td>\n",
       "      <td>2021-07-04</td>\n",
       "      <td>4</td>\n",
       "    </tr>\n",
       "    <tr>\n",
       "      <th>4</th>\n",
       "      <td>46</td>\n",
       "      <td>2021-07-11</td>\n",
       "      <td>5</td>\n",
       "    </tr>\n",
       "    <tr>\n",
       "      <th>5</th>\n",
       "      <td>21</td>\n",
       "      <td>2021-07-18</td>\n",
       "      <td>6</td>\n",
       "    </tr>\n",
       "    <tr>\n",
       "      <th>6</th>\n",
       "      <td>24</td>\n",
       "      <td>2021-07-25</td>\n",
       "      <td>7</td>\n",
       "    </tr>\n",
       "    <tr>\n",
       "      <th>7</th>\n",
       "      <td>10</td>\n",
       "      <td>2021-08-01</td>\n",
       "      <td>8</td>\n",
       "    </tr>\n",
       "  </tbody>\n",
       "</table>\n",
       "</div>"
      ],
      "text/plain": [
       "   count start_time_conv  week\n",
       "0     25      2021-06-13     1\n",
       "1     14      2021-06-20     2\n",
       "2      7      2021-06-27     3\n",
       "3      8      2021-07-04     4\n",
       "4     46      2021-07-11     5\n",
       "5     21      2021-07-18     6\n",
       "6     24      2021-07-25     7\n",
       "7     10      2021-08-01     8"
      ]
     },
     "execution_count": 146,
     "metadata": {},
     "output_type": "execute_result"
    }
   ],
   "source": [
    "studycard_details_unpaid_users_weekly = studycard[studycard['user_id'].isin(userid_unpaid_users)].set_index('start_time_conv')\n",
    "studycard_details_unpaid_users_weekly = studycard_details_unpaid_users_weekly.resample('W').agg({'activity_id': lambda x: x.shape[0]})\n",
    "studycard_details_unpaid_users_weekly.rename(columns={'activity_id':'count'}, inplace=True)\n",
    "studycard_details_unpaid_users_weekly['start_time_conv'] = studycard_details_unpaid_users_weekly.index\n",
    "studycard_details_unpaid_users_weekly.index = [x for x in range(studycard_details_unpaid_users_weekly.shape[0])]\n",
    "studycard_details_unpaid_users_weekly['week'] = [x+1 for x in studycard_details_unpaid_users_weekly.index]\n",
    "studycard_details_unpaid_users_weekly"
   ]
  },
  {
   "cell_type": "code",
   "execution_count": 253,
   "metadata": {},
   "outputs": [
    {
     "data": {
      "image/png": "[encoded data removed]",
      "text/plain": [
       "<Figure size 720x792 with 2 Axes>"
      ]
     },
     "metadata": {},
     "output_type": "display_data"
    }
   ],
   "source": [
    "fig, (ax1, ax2) = plt.subplots(figsize=(10,11),nrows=2, ncols=1)\n",
    "\n",
    "paid_studycard_count = list(studycard_details_paid_users_weekly['count'])\n",
    "paid_week = list(studycard_details_paid_users_weekly['start_time_conv'])\n",
    "\n",
    "unpaid_studycard_count = list(studycard_details_paid_users_weekly['count'])\n",
    "unpaid_week = list(studycard_details_paid_users_weekly['start_time_conv'])\n",
    "\n",
    "paid_week = [x.strftime('%Y-%m-%d') for x in paid_week]\n",
    "unpaid_week = [x.strftime('%Y-%m-%d') for x in unpaid_week]\n",
    "\n",
    "ax1.plot(paid_week,\n",
    "        paid_studycard_count,\n",
    "        label='Paid Users',\n",
    "        color='#003f5c',\n",
    "         marker='o')\n",
    "ax1.set_xticklabels(paid_week, rotation=45, ha='center')\n",
    "ax1.set_ylabel('StudyCard Count',fontsize=12, fontweight='bold')\n",
    "ax1.set_title('StudyCard Count Comparision for Paid and Unpaid users across weeks',\n",
    "             fontsize=12, fontweight='bold')\n",
    "ax1.legend()\n",
    "\n",
    "\n",
    "ax2.plot(unpaid_week,\n",
    "        unpaid_studycard_count,\n",
    "        label='Unpaid Users',\n",
    "        color='#ffa600',\n",
    "         marker='o')\n",
    "ax2.set_xticklabels(unpaid_week, rotation=45, ha='center')\n",
    "ax2.set_xlabel('Weeks', fontsize=12, fontweight='bold')\n",
    "ax2.set_ylabel('StudyCard Count',fontsize=12, fontweight='bold')\n",
    "ax2.legend()\n",
    "\n",
    "plt.show()"
   ]
  },
  {
   "cell_type": "markdown",
   "metadata": {},
   "source": [
    "<br><br>"
   ]
  },
  {
   "cell_type": "markdown",
   "metadata": {},
   "source": [
    "## Summary"
   ]
  },
  {
   "cell_type": "markdown",
   "metadata": {},
   "source": [
    "**57.59%** of the users are paid users, while **42.4%** of the users have joined but didn’t make their first purchase yet.\n",
    "\n",
    "The average wait before a user decides to make the first purchase is 1 day.\n",
    "\n",
    "Most users (**40.62 %**) signed up on the **same day** as they joined.\n",
    "\n",
    "The maximum time a user waited before making the first purchase is 48 days.\n",
    "\n",
    "**75% of the users signed up within 3 days** and 25% of users waited for more than 3 days before signing up\n",
    "\n",
    "**July** had the **maximum** number of signups.\n",
    "\n",
    "**5th week** (2021-07-04) had the **most number of signups**\n",
    "\n",
    "\n",
    "There are a total of 66 courses.\n",
    "\n",
    "**Spoken_eng_hindi, spoken-english, kerala-psc** are the **top 3 courses** which were taken the most by users\n",
    "\n",
    "\n",
    "There are a total of 4709 videos. \n",
    "The longest video being, 8514 seconds and the shortest is 14 seconds\n",
    "\n",
    "***The average number of videos watched by each user is, 8***\n",
    "\n",
    "3 most popular videos: 5861, 5859, 5860\n",
    "\n",
    "The average length of the video which was watched completely is, 800\n",
    "The average length of most popular videos is, 715\n",
    "\n",
    "When a quiz is taken, there is a 64.58% chance that the quiz will be completed\n",
    "\n",
    "On average, each user completes 8 quizzes\n",
    "\n",
    "On average, each user uses 6 studycards\n"
   ]
  },
  {
   "cell_type": "code",
   "execution_count": 323,
   "metadata": {},
   "outputs": [],
   "source": []
  },
  {
   "cell_type": "code",
   "execution_count": null,
   "metadata": {},
   "outputs": [],
   "source": []
  }
 ],
 "metadata": {
  "kernelspec": {
   "display_name": "Python 3",
   "language": "python",
   "name": "python3"
  },
  "language_info": {
   "codemirror_mode": {
    "name": "ipython",
    "version": 3
   },
   "file_extension": ".py",
   "mimetype": "text/x-python",
   "name": "python",
   "nbconvert_exporter": "python",
   "pygments_lexer": "ipython3",
   "version": "3.8.3"
  }
 },
 "nbformat": 4,
 "nbformat_minor": 4
}
